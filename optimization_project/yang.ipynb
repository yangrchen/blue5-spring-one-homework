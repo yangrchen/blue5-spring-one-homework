{
 "cells": [
  {
   "cell_type": "code",
   "execution_count": 180,
   "metadata": {},
   "outputs": [],
   "source": [
    "from gurobipy import Model, GRB\n",
    "import polars as pl # Using Polars for educational purposes\n",
    "import pandas as pd\n",
    "import matplotlib.pyplot as plt\n",
    "import numpy as np\n",
    "from math import sqrt\n",
    "\n",
    "stocks = pl.read_csv(\"stocks.csv\")"
   ]
  },
  {
   "cell_type": "code",
   "execution_count": 181,
   "metadata": {},
   "outputs": [
    {
     "data": {
      "text/html": [
       "<div><style>\n",
       ".dataframe > thead > tr,\n",
       ".dataframe > tbody > tr {\n",
       "  text-align: right;\n",
       "  white-space: pre-wrap;\n",
       "}\n",
       "</style>\n",
       "<small>shape: (5, 6)</small><table border=\"1\" class=\"dataframe\"><thead><tr><th>Date</th><th>AAPL</th><th>GOOG</th><th>IBM</th><th>MARA</th><th>NVDA</th></tr><tr><td>str</td><td>f64</td><td>f64</td><td>f64</td><td>f64</td><td>f64</td></tr></thead><tbody><tr><td>&quot;1/16/2023&quot;</td><td>137.87</td><td>99.28</td><td>141.2</td><td>8.07</td><td>178.39</td></tr><tr><td>&quot;1/23/2023&quot;</td><td>145.118851</td><td>100.709999</td><td>134.389999</td><td>8.02</td><td>203.649994</td></tr><tr><td>&quot;1/30/2023&quot;</td><td>153.641205</td><td>105.220001</td><td>136.940002</td><td>7.07</td><td>211.0</td></tr><tr><td>&quot;2/6/2023&quot;</td><td>150.170624</td><td>94.860001</td><td>135.600006</td><td>5.92</td><td>212.649994</td></tr><tr><td>&quot;2/13/2023&quot;</td><td>151.933685</td><td>94.589996</td><td>135.020004</td><td>7.7</td><td>213.880005</td></tr></tbody></table></div>"
      ],
      "text/plain": [
       "shape: (5, 6)\n",
       "┌───────────┬────────────┬────────────┬────────────┬──────┬────────────┐\n",
       "│ Date      ┆ AAPL       ┆ GOOG       ┆ IBM        ┆ MARA ┆ NVDA       │\n",
       "│ ---       ┆ ---        ┆ ---        ┆ ---        ┆ ---  ┆ ---        │\n",
       "│ str       ┆ f64        ┆ f64        ┆ f64        ┆ f64  ┆ f64        │\n",
       "╞═══════════╪════════════╪════════════╪════════════╪══════╪════════════╡\n",
       "│ 1/16/2023 ┆ 137.87     ┆ 99.28      ┆ 141.2      ┆ 8.07 ┆ 178.39     │\n",
       "│ 1/23/2023 ┆ 145.118851 ┆ 100.709999 ┆ 134.389999 ┆ 8.02 ┆ 203.649994 │\n",
       "│ 1/30/2023 ┆ 153.641205 ┆ 105.220001 ┆ 136.940002 ┆ 7.07 ┆ 211.0      │\n",
       "│ 2/6/2023  ┆ 150.170624 ┆ 94.860001  ┆ 135.600006 ┆ 5.92 ┆ 212.649994 │\n",
       "│ 2/13/2023 ┆ 151.933685 ┆ 94.589996  ┆ 135.020004 ┆ 7.7  ┆ 213.880005 │\n",
       "└───────────┴────────────┴────────────┴────────────┴──────┴────────────┘"
      ]
     },
     "execution_count": 181,
     "metadata": {},
     "output_type": "execute_result"
    }
   ],
   "source": [
    "stocks.head()"
   ]
  },
  {
   "cell_type": "code",
   "execution_count": 182,
   "metadata": {},
   "outputs": [
    {
     "data": {
      "text/html": [
       "<div><style>\n",
       ".dataframe > thead > tr,\n",
       ".dataframe > tbody > tr {\n",
       "  text-align: right;\n",
       "  white-space: pre-wrap;\n",
       "}\n",
       "</style>\n",
       "<small>shape: (53, 5)</small><table border=\"1\" class=\"dataframe\"><thead><tr><th>AAPL</th><th>GOOG</th><th>IBM</th><th>MARA</th><th>NVDA</th></tr><tr><td>f64</td><td>f64</td><td>f64</td><td>f64</td><td>f64</td></tr></thead><tbody><tr><td>5.257744</td><td>1.44037</td><td>-4.822947</td><td>-0.619579</td><td>14.159983</td></tr><tr><td>5.872672</td><td>4.478207</td><td>1.897465</td><td>-11.845387</td><td>3.609136</td></tr><tr><td>-2.258887</td><td>-9.846037</td><td>-0.978528</td><td>-16.265912</td><td>0.781988</td></tr><tr><td>1.174039</td><td>-0.284635</td><td>-0.42773</td><td>30.067568</td><td>0.57842</td></tr><tr><td>-3.828253</td><td>-5.539696</td><td>-3.295806</td><td>-13.376623</td><td>8.874133</td></tr><tr><td>2.944577</td><td>5.226636</td><td>-0.712268</td><td>-4.347826</td><td>2.59383</td></tr><tr><td>-1.675162</td><td>-3.201441</td><td>-3.232029</td><td>-16.45768</td><td>-3.871913</td></tr><tr><td>4.377104</td><td>12.581031</td><td>-1.402945</td><td>53.283302</td><td>12.018292</td></tr><tr><td>3.387098</td><td>3.513565</td><td>1.293556</td><td>-4.406365</td><td>4.097185</td></tr><tr><td>2.901723</td><td>-1.942295</td><td>4.629256</td><td>11.651729</td><td>3.726793</td></tr><tr><td>-0.145542</td><td>4.71154</td><td>-0.450069</td><td>-8.486239</td><td>-2.664073</td></tr><tr><td>0.33402</td><td>0.51423</td><td>-1.80843</td><td>50.0</td><td>-1.031922</td></tr><tr><td>&hellip;</td><td>&hellip;</td><td>&hellip;</td><td>&hellip;</td><td>&hellip;</td></tr><tr><td>5.519386</td><td>2.830408</td><td>0.757275</td><td>2.125399</td><td>7.399182</td></tr><tr><td>1.899099</td><td>2.148295</td><td>2.596963</td><td>4.058273</td><td>1.992346</td></tr><tr><td>0.147609</td><td>0.934715</td><td>1.497805</td><td>14.1</td><td>-3.087346</td></tr><tr><td>0.668529</td><td>-3.545069</td><td>3.460504</td><td>20.070114</td><td>-2.116129</td></tr><tr><td>2.337378</td><td>2.490243</td><td>0.878234</td><td>22.481759</td><td>1.584519</td></tr><tr><td>0.950386</td><td>-2.049183</td><td>0.166701</td><td>8.998808</td><td>2.913315</td></tr><tr><td>-2.009415</td><td>6.634792</td><td>-0.055475</td><td>46.036072</td><td>-0.122726</td></tr><tr><td>-0.55269</td><td>-1.25421</td><td>0.869621</td><td>-12.055407</td><td>1.417164</td></tr><tr><td>-5.895188</td><td>-2.511881</td><td>-2.684194</td><td>2.681997</td><td>-0.858204</td></tr><tr><td>2.616186</td><td>4.985811</td><td>4.171902</td><td>-21.310119</td><td>11.432465</td></tr><tr><td>3.033563</td><td>2.585965</td><td>3.42581</td><td>-15.015811</td><td>8.738804</td></tr><tr><td>1.534768</td><td>-0.175707</td><td>1.434573</td><td>0.867954</td><td>0.273992</td></tr></tbody></table></div>"
      ],
      "text/plain": [
       "shape: (53, 5)\n",
       "┌───────────┬───────────┬───────────┬────────────┬───────────┐\n",
       "│ AAPL      ┆ GOOG      ┆ IBM       ┆ MARA       ┆ NVDA      │\n",
       "│ ---       ┆ ---       ┆ ---       ┆ ---        ┆ ---       │\n",
       "│ f64       ┆ f64       ┆ f64       ┆ f64        ┆ f64       │\n",
       "╞═══════════╪═══════════╪═══════════╪════════════╪═══════════╡\n",
       "│ 5.257744  ┆ 1.44037   ┆ -4.822947 ┆ -0.619579  ┆ 14.159983 │\n",
       "│ 5.872672  ┆ 4.478207  ┆ 1.897465  ┆ -11.845387 ┆ 3.609136  │\n",
       "│ -2.258887 ┆ -9.846037 ┆ -0.978528 ┆ -16.265912 ┆ 0.781988  │\n",
       "│ 1.174039  ┆ -0.284635 ┆ -0.42773  ┆ 30.067568  ┆ 0.57842   │\n",
       "│ -3.828253 ┆ -5.539696 ┆ -3.295806 ┆ -13.376623 ┆ 8.874133  │\n",
       "│ …         ┆ …         ┆ …         ┆ …          ┆ …         │\n",
       "│ -0.55269  ┆ -1.25421  ┆ 0.869621  ┆ -12.055407 ┆ 1.417164  │\n",
       "│ -5.895188 ┆ -2.511881 ┆ -2.684194 ┆ 2.681997   ┆ -0.858204 │\n",
       "│ 2.616186  ┆ 4.985811  ┆ 4.171902  ┆ -21.310119 ┆ 11.432465 │\n",
       "│ 3.033563  ┆ 2.585965  ┆ 3.42581   ┆ -15.015811 ┆ 8.738804  │\n",
       "│ 1.534768  ┆ -0.175707 ┆ 1.434573  ┆ 0.867954   ┆ 0.273992  │\n",
       "└───────────┴───────────┴───────────┴────────────┴───────────┘"
      ]
     },
     "execution_count": 182,
     "metadata": {},
     "output_type": "execute_result"
    }
   ],
   "source": [
    "# Get all the stock names to iterate over\n",
    "stock_names = stocks.columns[1:]\n",
    "\n",
    "# Calculate the weekly return percentage for each stock\n",
    "stocks = (\n",
    "    stocks.with_columns(\n",
    "        ((pl.col(s) - pl.col(s).shift(1)) / pl.col(s).shift(1) * 100.0).alias(s)\n",
    "        for s in stock_names\n",
    "    )\n",
    "    .filter(pl.col(\"Date\") != \"1/16/2023\")\n",
    "    .drop(\"Date\")\n",
    ")\n",
    "stocks"
   ]
  },
  {
   "cell_type": "code",
   "execution_count": 183,
   "metadata": {},
   "outputs": [
    {
     "data": {
      "text/html": [
       "<div><style>\n",
       ".dataframe > thead > tr,\n",
       ".dataframe > tbody > tr {\n",
       "  text-align: right;\n",
       "  white-space: pre-wrap;\n",
       "}\n",
       "</style>\n",
       "<small>shape: (5, 5)</small><table border=\"1\" class=\"dataframe\"><thead><tr><th>AAPL</th><th>GOOG</th><th>IBM</th><th>MARA</th><th>NVDA</th></tr><tr><td>f64</td><td>f64</td><td>f64</td><td>f64</td><td>f64</td></tr></thead><tbody><tr><td>8.891972</td><td>6.163829</td><td>2.499224</td><td>9.3736</td><td>9.096995</td></tr><tr><td>6.163829</td><td>19.498635</td><td>1.234442</td><td>17.023391</td><td>9.833599</td></tr><tr><td>2.499224</td><td>1.234442</td><td>6.123906</td><td>-1.107004</td><td>2.074088</td></tr><tr><td>9.3736</td><td>17.023391</td><td>-1.107004</td><td>292.463474</td><td>1.309068</td></tr><tr><td>9.096995</td><td>9.833599</td><td>2.074088</td><td>1.309068</td><td>36.943424</td></tr></tbody></table></div>"
      ],
      "text/plain": [
       "shape: (5, 5)\n",
       "┌──────────┬───────────┬───────────┬────────────┬───────────┐\n",
       "│ AAPL     ┆ GOOG      ┆ IBM       ┆ MARA       ┆ NVDA      │\n",
       "│ ---      ┆ ---       ┆ ---       ┆ ---        ┆ ---       │\n",
       "│ f64      ┆ f64       ┆ f64       ┆ f64        ┆ f64       │\n",
       "╞══════════╪═══════════╪═══════════╪════════════╪═══════════╡\n",
       "│ 8.891972 ┆ 6.163829  ┆ 2.499224  ┆ 9.3736     ┆ 9.096995  │\n",
       "│ 6.163829 ┆ 19.498635 ┆ 1.234442  ┆ 17.023391  ┆ 9.833599  │\n",
       "│ 2.499224 ┆ 1.234442  ┆ 6.123906  ┆ -1.107004  ┆ 2.074088  │\n",
       "│ 9.3736   ┆ 17.023391 ┆ -1.107004 ┆ 292.463474 ┆ 1.309068  │\n",
       "│ 9.096995 ┆ 9.833599  ┆ 2.074088  ┆ 1.309068   ┆ 36.943424 │\n",
       "└──────────┴───────────┴───────────┴────────────┴───────────┘"
      ]
     },
     "execution_count": 183,
     "metadata": {},
     "output_type": "execute_result"
    }
   ],
   "source": [
    "def calculate_covariance(df: pl.DataFrame):\n",
    "    # Center columns with the mean\n",
    "    centered_df = df.select(\n",
    "        [(pl.col(c) - pl.col(c).mean()).alias(c) for c in df.columns]\n",
    "    )\n",
    "\n",
    "    # Calculate pairwise covariance and construct covariance matrix\n",
    "    n = len(df) - 1\n",
    "    cov_matrix = pl.DataFrame(\n",
    "        [\n",
    "            [(centered_df[c1] * centered_df[c2]).sum() / n for c1 in df.columns]\n",
    "            for c2 in df.columns\n",
    "        ],\n",
    "        schema=df.schema,\n",
    "    )\n",
    "\n",
    "    return cov_matrix\n",
    "\n",
    "\n",
    "n_stocks = len(stock_names)\n",
    "stock_return = stocks.mean()\n",
    "cov_mat = calculate_covariance(stocks)\n",
    "cov_mat"
   ]
  },
  {
   "cell_type": "code",
   "execution_count": 184,
   "metadata": {},
   "outputs": [
    {
     "data": {
      "text/html": [
       "<div>\n",
       "<style scoped>\n",
       "    .dataframe tbody tr th:only-of-type {\n",
       "        vertical-align: middle;\n",
       "    }\n",
       "\n",
       "    .dataframe tbody tr th {\n",
       "        vertical-align: top;\n",
       "    }\n",
       "\n",
       "    .dataframe thead th {\n",
       "        text-align: right;\n",
       "    }\n",
       "</style>\n",
       "<table border=\"1\" class=\"dataframe\">\n",
       "  <thead>\n",
       "    <tr style=\"text-align: right;\">\n",
       "      <th></th>\n",
       "      <th>AAPL</th>\n",
       "      <th>GOOG</th>\n",
       "      <th>IBM</th>\n",
       "      <th>MARA</th>\n",
       "      <th>NVDA</th>\n",
       "    </tr>\n",
       "  </thead>\n",
       "  <tbody>\n",
       "    <tr>\n",
       "      <th>AAPL</th>\n",
       "      <td>8.891972</td>\n",
       "      <td>6.163829</td>\n",
       "      <td>2.499224</td>\n",
       "      <td>9.373600</td>\n",
       "      <td>9.096995</td>\n",
       "    </tr>\n",
       "    <tr>\n",
       "      <th>GOOG</th>\n",
       "      <td>6.163829</td>\n",
       "      <td>19.498635</td>\n",
       "      <td>1.234442</td>\n",
       "      <td>17.023391</td>\n",
       "      <td>9.833599</td>\n",
       "    </tr>\n",
       "    <tr>\n",
       "      <th>IBM</th>\n",
       "      <td>2.499224</td>\n",
       "      <td>1.234442</td>\n",
       "      <td>6.123906</td>\n",
       "      <td>-1.107004</td>\n",
       "      <td>2.074088</td>\n",
       "    </tr>\n",
       "    <tr>\n",
       "      <th>MARA</th>\n",
       "      <td>9.373600</td>\n",
       "      <td>17.023391</td>\n",
       "      <td>-1.107004</td>\n",
       "      <td>292.463474</td>\n",
       "      <td>1.309068</td>\n",
       "    </tr>\n",
       "    <tr>\n",
       "      <th>NVDA</th>\n",
       "      <td>9.096995</td>\n",
       "      <td>9.833599</td>\n",
       "      <td>2.074088</td>\n",
       "      <td>1.309068</td>\n",
       "      <td>36.943424</td>\n",
       "    </tr>\n",
       "  </tbody>\n",
       "</table>\n",
       "</div>"
      ],
      "text/plain": [
       "          AAPL       GOOG       IBM        MARA       NVDA\n",
       "AAPL  8.891972   6.163829  2.499224    9.373600   9.096995\n",
       "GOOG  6.163829  19.498635  1.234442   17.023391   9.833599\n",
       "IBM   2.499224   1.234442  6.123906   -1.107004   2.074088\n",
       "MARA  9.373600  17.023391 -1.107004  292.463474   1.309068\n",
       "NVDA  9.096995   9.833599  2.074088    1.309068  36.943424"
      ]
     },
     "execution_count": 184,
     "metadata": {},
     "output_type": "execute_result"
    }
   ],
   "source": [
    "# Verifying covariance matrix calculation with Pandas calculation\n",
    "stocks.to_pandas().cov()"
   ]
  },
  {
   "cell_type": "markdown",
   "metadata": {},
   "source": [
    "# Optimization Model"
   ]
  },
  {
   "cell_type": "code",
   "execution_count": 185,
   "metadata": {},
   "outputs": [],
   "source": [
    "cov_mat = cov_mat.to_pandas()\n",
    "cov_mat.index = stock_names\n",
    "m = Model(\"Portfolio\")\n",
    "\n",
    "vars = pd.Series(m.addVars(stock_names, lb=0), index=stock_names)\n",
    "portfolio_risk = cov_mat.dot(vars).dot(vars)\n",
    "m.setObjective(portfolio_risk, GRB.MINIMIZE)"
   ]
  }
 ],
 "metadata": {
  "kernelspec": {
   "display_name": "msa",
   "language": "python",
   "name": "python3"
  },
  "language_info": {
   "codemirror_mode": {
    "name": "ipython",
    "version": 3
   },
   "file_extension": ".py",
   "mimetype": "text/x-python",
   "name": "python",
   "nbconvert_exporter": "python",
   "pygments_lexer": "ipython3",
   "version": "3.11.6"
  }
 },
 "nbformat": 4,
 "nbformat_minor": 2
}
