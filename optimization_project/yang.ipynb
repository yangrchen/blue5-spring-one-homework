{
 "cells": [
  {
   "cell_type": "code",
   "execution_count": 65,
   "metadata": {},
   "outputs": [],
   "source": [
    "from gurobipy import Model, GRB\n",
    "import polars as pl\n",
    "\n",
    "stocks = pl.read_csv(\"stocks.csv\")"
   ]
  },
  {
   "cell_type": "code",
   "execution_count": 66,
   "metadata": {},
   "outputs": [
    {
     "data": {
      "text/html": [
       "<div><style>\n",
       ".dataframe > thead > tr,\n",
       ".dataframe > tbody > tr {\n",
       "  text-align: right;\n",
       "  white-space: pre-wrap;\n",
       "}\n",
       "</style>\n",
       "<small>shape: (5, 6)</small><table border=\"1\" class=\"dataframe\"><thead><tr><th>Date</th><th>AAPL</th><th>GOOG</th><th>IBM</th><th>MARA</th><th>NVDA</th></tr><tr><td>str</td><td>f64</td><td>f64</td><td>f64</td><td>f64</td><td>f64</td></tr></thead><tbody><tr><td>&quot;1/16/2023&quot;</td><td>137.87</td><td>99.28</td><td>141.2</td><td>8.07</td><td>178.39</td></tr><tr><td>&quot;1/23/2023&quot;</td><td>145.118851</td><td>100.709999</td><td>134.389999</td><td>8.02</td><td>203.649994</td></tr><tr><td>&quot;1/30/2023&quot;</td><td>153.641205</td><td>105.220001</td><td>136.940002</td><td>7.07</td><td>211.0</td></tr><tr><td>&quot;2/6/2023&quot;</td><td>150.170624</td><td>94.860001</td><td>135.600006</td><td>5.92</td><td>212.649994</td></tr><tr><td>&quot;2/13/2023&quot;</td><td>151.933685</td><td>94.589996</td><td>135.020004</td><td>7.7</td><td>213.880005</td></tr></tbody></table></div>"
      ],
      "text/plain": [
       "shape: (5, 6)\n",
       "┌───────────┬────────────┬────────────┬────────────┬──────┬────────────┐\n",
       "│ Date      ┆ AAPL       ┆ GOOG       ┆ IBM        ┆ MARA ┆ NVDA       │\n",
       "│ ---       ┆ ---        ┆ ---        ┆ ---        ┆ ---  ┆ ---        │\n",
       "│ str       ┆ f64        ┆ f64        ┆ f64        ┆ f64  ┆ f64        │\n",
       "╞═══════════╪════════════╪════════════╪════════════╪══════╪════════════╡\n",
       "│ 1/16/2023 ┆ 137.87     ┆ 99.28      ┆ 141.2      ┆ 8.07 ┆ 178.39     │\n",
       "│ 1/23/2023 ┆ 145.118851 ┆ 100.709999 ┆ 134.389999 ┆ 8.02 ┆ 203.649994 │\n",
       "│ 1/30/2023 ┆ 153.641205 ┆ 105.220001 ┆ 136.940002 ┆ 7.07 ┆ 211.0      │\n",
       "│ 2/6/2023  ┆ 150.170624 ┆ 94.860001  ┆ 135.600006 ┆ 5.92 ┆ 212.649994 │\n",
       "│ 2/13/2023 ┆ 151.933685 ┆ 94.589996  ┆ 135.020004 ┆ 7.7  ┆ 213.880005 │\n",
       "└───────────┴────────────┴────────────┴────────────┴──────┴────────────┘"
      ]
     },
     "execution_count": 66,
     "metadata": {},
     "output_type": "execute_result"
    }
   ],
   "source": [
    "stocks.head()"
   ]
  },
  {
   "cell_type": "code",
   "execution_count": 67,
   "metadata": {},
   "outputs": [
    {
     "data": {
      "text/html": [
       "<div><style>\n",
       ".dataframe > thead > tr,\n",
       ".dataframe > tbody > tr {\n",
       "  text-align: right;\n",
       "  white-space: pre-wrap;\n",
       "}\n",
       "</style>\n",
       "<small>shape: (53, 6)</small><table border=\"1\" class=\"dataframe\"><thead><tr><th>Date</th><th>AAPL</th><th>GOOG</th><th>IBM</th><th>MARA</th><th>NVDA</th></tr><tr><td>str</td><td>f64</td><td>f64</td><td>f64</td><td>f64</td><td>f64</td></tr></thead><tbody><tr><td>&quot;1/23/2023&quot;</td><td>5.257744</td><td>1.44037</td><td>-4.822947</td><td>-0.619579</td><td>14.159983</td></tr><tr><td>&quot;1/30/2023&quot;</td><td>5.872672</td><td>4.478207</td><td>1.897465</td><td>-11.845387</td><td>3.609136</td></tr><tr><td>&quot;2/6/2023&quot;</td><td>-2.258887</td><td>-9.846037</td><td>-0.978528</td><td>-16.265912</td><td>0.781988</td></tr><tr><td>&quot;2/13/2023&quot;</td><td>1.174039</td><td>-0.284635</td><td>-0.42773</td><td>30.067568</td><td>0.57842</td></tr><tr><td>&quot;2/20/2023&quot;</td><td>-3.828253</td><td>-5.539696</td><td>-3.295806</td><td>-13.376623</td><td>8.874133</td></tr><tr><td>&quot;2/27/2023&quot;</td><td>2.944577</td><td>5.226636</td><td>-0.712268</td><td>-4.347826</td><td>2.59383</td></tr><tr><td>&quot;3/6/2023&quot;</td><td>-1.675162</td><td>-3.201441</td><td>-3.232029</td><td>-16.45768</td><td>-3.871913</td></tr><tr><td>&quot;3/13/2023&quot;</td><td>4.377104</td><td>12.581031</td><td>-1.402945</td><td>53.283302</td><td>12.018292</td></tr><tr><td>&quot;3/20/2023&quot;</td><td>3.387098</td><td>3.513565</td><td>1.293556</td><td>-4.406365</td><td>4.097185</td></tr><tr><td>&quot;3/27/2023&quot;</td><td>2.901723</td><td>-1.942295</td><td>4.629256</td><td>11.651729</td><td>3.726793</td></tr><tr><td>&quot;4/3/2023&quot;</td><td>-0.145542</td><td>4.71154</td><td>-0.450069</td><td>-8.486239</td><td>-2.664073</td></tr><tr><td>&quot;4/10/2023&quot;</td><td>0.33402</td><td>0.51423</td><td>-1.80843</td><td>50.0</td><td>-1.031922</td></tr><tr><td>&hellip;</td><td>&hellip;</td><td>&hellip;</td><td>&hellip;</td><td>&hellip;</td><td>&hellip;</td></tr><tr><td>&quot;11/6/2023&quot;</td><td>5.519386</td><td>2.830408</td><td>0.757275</td><td>2.125399</td><td>7.399182</td></tr><tr><td>&quot;11/13/2023&quot;</td><td>1.899099</td><td>2.148295</td><td>2.596963</td><td>4.058273</td><td>1.992346</td></tr><tr><td>&quot;11/20/2023&quot;</td><td>0.147609</td><td>0.934715</td><td>1.497805</td><td>14.1</td><td>-3.087346</td></tr><tr><td>&quot;11/27/2023&quot;</td><td>0.668529</td><td>-3.545069</td><td>3.460504</td><td>20.070114</td><td>-2.116129</td></tr><tr><td>&quot;12/4/2023&quot;</td><td>2.337378</td><td>2.490243</td><td>0.878234</td><td>22.481759</td><td>1.584519</td></tr><tr><td>&quot;12/11/2023&quot;</td><td>0.950386</td><td>-2.049183</td><td>0.166701</td><td>8.998808</td><td>2.913315</td></tr><tr><td>&quot;12/18/2023&quot;</td><td>-2.009415</td><td>6.634792</td><td>-0.055475</td><td>46.036072</td><td>-0.122726</td></tr><tr><td>&quot;12/25/2023&quot;</td><td>-0.55269</td><td>-1.25421</td><td>0.869621</td><td>-12.055407</td><td>1.417164</td></tr><tr><td>&quot;1/1/2024&quot;</td><td>-5.895188</td><td>-2.511881</td><td>-2.684194</td><td>2.681997</td><td>-0.858204</td></tr><tr><td>&quot;1/8/2024&quot;</td><td>2.616186</td><td>4.985811</td><td>4.171902</td><td>-21.310119</td><td>11.432465</td></tr><tr><td>&quot;1/15/2024&quot;</td><td>3.033563</td><td>2.585965</td><td>3.42581</td><td>-15.015811</td><td>8.738804</td></tr><tr><td>&quot;1/22/2024&quot;</td><td>1.534768</td><td>-0.175707</td><td>1.434573</td><td>0.867954</td><td>0.273992</td></tr></tbody></table></div>"
      ],
      "text/plain": [
       "shape: (53, 6)\n",
       "┌────────────┬───────────┬───────────┬───────────┬────────────┬───────────┐\n",
       "│ Date       ┆ AAPL      ┆ GOOG      ┆ IBM       ┆ MARA       ┆ NVDA      │\n",
       "│ ---        ┆ ---       ┆ ---       ┆ ---       ┆ ---        ┆ ---       │\n",
       "│ str        ┆ f64       ┆ f64       ┆ f64       ┆ f64        ┆ f64       │\n",
       "╞════════════╪═══════════╪═══════════╪═══════════╪════════════╪═══════════╡\n",
       "│ 1/23/2023  ┆ 5.257744  ┆ 1.44037   ┆ -4.822947 ┆ -0.619579  ┆ 14.159983 │\n",
       "│ 1/30/2023  ┆ 5.872672  ┆ 4.478207  ┆ 1.897465  ┆ -11.845387 ┆ 3.609136  │\n",
       "│ 2/6/2023   ┆ -2.258887 ┆ -9.846037 ┆ -0.978528 ┆ -16.265912 ┆ 0.781988  │\n",
       "│ 2/13/2023  ┆ 1.174039  ┆ -0.284635 ┆ -0.42773  ┆ 30.067568  ┆ 0.57842   │\n",
       "│ 2/20/2023  ┆ -3.828253 ┆ -5.539696 ┆ -3.295806 ┆ -13.376623 ┆ 8.874133  │\n",
       "│ …          ┆ …         ┆ …         ┆ …         ┆ …          ┆ …         │\n",
       "│ 12/25/2023 ┆ -0.55269  ┆ -1.25421  ┆ 0.869621  ┆ -12.055407 ┆ 1.417164  │\n",
       "│ 1/1/2024   ┆ -5.895188 ┆ -2.511881 ┆ -2.684194 ┆ 2.681997   ┆ -0.858204 │\n",
       "│ 1/8/2024   ┆ 2.616186  ┆ 4.985811  ┆ 4.171902  ┆ -21.310119 ┆ 11.432465 │\n",
       "│ 1/15/2024  ┆ 3.033563  ┆ 2.585965  ┆ 3.42581   ┆ -15.015811 ┆ 8.738804  │\n",
       "│ 1/22/2024  ┆ 1.534768  ┆ -0.175707 ┆ 1.434573  ┆ 0.867954   ┆ 0.273992  │\n",
       "└────────────┴───────────┴───────────┴───────────┴────────────┴───────────┘"
      ]
     },
     "execution_count": 67,
     "metadata": {},
     "output_type": "execute_result"
    }
   ],
   "source": [
    "# Get all the stock names to iterate over\n",
    "stock_names = stocks.columns[1:]\n",
    "\n",
    "# Calculate the weekly return percentage for each stock\n",
    "stocks = stocks.with_columns(\n",
    "    ((pl.col(s) - pl.col(s).shift(1)) / pl.col(s).shift(1) * 100.0).alias(s)\n",
    "    for s in stock_names\n",
    ").filter(pl.col(\"Date\") != \"1/16/2023\")\n",
    "stocks"
   ]
  }
 ],
 "metadata": {
  "kernelspec": {
   "display_name": "msa",
   "language": "python",
   "name": "python3"
  },
  "language_info": {
   "codemirror_mode": {
    "name": "ipython",
    "version": 3
   },
   "file_extension": ".py",
   "mimetype": "text/x-python",
   "name": "python",
   "nbconvert_exporter": "python",
   "pygments_lexer": "ipython3",
   "version": "3.11.6"
  }
 },
 "nbformat": 4,
 "nbformat_minor": 2
}
