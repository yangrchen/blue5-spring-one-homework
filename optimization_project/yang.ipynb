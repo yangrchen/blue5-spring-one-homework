{
 "cells": [
  {
   "cell_type": "code",
   "execution_count": 63,
   "metadata": {},
   "outputs": [],
   "source": [
    "from gurobipy import Model, GRB\n",
    "import polars as pl  # Using Polars for educational purposes\n",
    "import pandas as pd\n",
    "import matplotlib.pyplot as plt\n",
    "import numpy as np\n",
    "from math import sqrt\n",
    "\n",
    "stocks_1 = pl.read_csv(\"stocks.csv\")"
   ]
  },
  {
   "cell_type": "code",
   "execution_count": 64,
   "metadata": {},
   "outputs": [
    {
     "data": {
      "text/html": [
       "<div><style>\n",
       ".dataframe > thead > tr,\n",
       ".dataframe > tbody > tr {\n",
       "  text-align: right;\n",
       "  white-space: pre-wrap;\n",
       "}\n",
       "</style>\n",
       "<small>shape: (5, 6)</small><table border=\"1\" class=\"dataframe\"><thead><tr><th>Date</th><th>AAPL</th><th>GOOG</th><th>IBM</th><th>MARA</th><th>NVDA</th></tr><tr><td>str</td><td>f64</td><td>f64</td><td>f64</td><td>f64</td><td>f64</td></tr></thead><tbody><tr><td>&quot;1/16/2023&quot;</td><td>137.87</td><td>99.28</td><td>141.2</td><td>8.07</td><td>178.39</td></tr><tr><td>&quot;1/23/2023&quot;</td><td>145.118851</td><td>100.709999</td><td>134.389999</td><td>8.02</td><td>203.649994</td></tr><tr><td>&quot;1/30/2023&quot;</td><td>153.641205</td><td>105.220001</td><td>136.940002</td><td>7.07</td><td>211.0</td></tr><tr><td>&quot;2/6/2023&quot;</td><td>150.170624</td><td>94.860001</td><td>135.600006</td><td>5.92</td><td>212.649994</td></tr><tr><td>&quot;2/13/2023&quot;</td><td>151.933685</td><td>94.589996</td><td>135.020004</td><td>7.7</td><td>213.880005</td></tr></tbody></table></div>"
      ],
      "text/plain": [
       "shape: (5, 6)\n",
       "┌───────────┬────────────┬────────────┬────────────┬──────┬────────────┐\n",
       "│ Date      ┆ AAPL       ┆ GOOG       ┆ IBM        ┆ MARA ┆ NVDA       │\n",
       "│ ---       ┆ ---        ┆ ---        ┆ ---        ┆ ---  ┆ ---        │\n",
       "│ str       ┆ f64        ┆ f64        ┆ f64        ┆ f64  ┆ f64        │\n",
       "╞═══════════╪════════════╪════════════╪════════════╪══════╪════════════╡\n",
       "│ 1/16/2023 ┆ 137.87     ┆ 99.28      ┆ 141.2      ┆ 8.07 ┆ 178.39     │\n",
       "│ 1/23/2023 ┆ 145.118851 ┆ 100.709999 ┆ 134.389999 ┆ 8.02 ┆ 203.649994 │\n",
       "│ 1/30/2023 ┆ 153.641205 ┆ 105.220001 ┆ 136.940002 ┆ 7.07 ┆ 211.0      │\n",
       "│ 2/6/2023  ┆ 150.170624 ┆ 94.860001  ┆ 135.600006 ┆ 5.92 ┆ 212.649994 │\n",
       "│ 2/13/2023 ┆ 151.933685 ┆ 94.589996  ┆ 135.020004 ┆ 7.7  ┆ 213.880005 │\n",
       "└───────────┴────────────┴────────────┴────────────┴──────┴────────────┘"
      ]
     },
     "execution_count": 64,
     "metadata": {},
     "output_type": "execute_result"
    }
   ],
   "source": [
    "stocks_1.head()"
   ]
  },
  {
   "cell_type": "code",
   "execution_count": 65,
   "metadata": {},
   "outputs": [
    {
     "data": {
      "text/html": [
       "<div><style>\n",
       ".dataframe > thead > tr,\n",
       ".dataframe > tbody > tr {\n",
       "  text-align: right;\n",
       "  white-space: pre-wrap;\n",
       "}\n",
       "</style>\n",
       "<small>shape: (53, 5)</small><table border=\"1\" class=\"dataframe\"><thead><tr><th>AAPL</th><th>GOOG</th><th>IBM</th><th>MARA</th><th>NVDA</th></tr><tr><td>f64</td><td>f64</td><td>f64</td><td>f64</td><td>f64</td></tr></thead><tbody><tr><td>5.257744</td><td>1.44037</td><td>-4.822947</td><td>-0.619579</td><td>14.159983</td></tr><tr><td>5.872672</td><td>4.478207</td><td>1.897465</td><td>-11.845387</td><td>3.609136</td></tr><tr><td>-2.258887</td><td>-9.846037</td><td>-0.978528</td><td>-16.265912</td><td>0.781988</td></tr><tr><td>1.174039</td><td>-0.284635</td><td>-0.42773</td><td>30.067568</td><td>0.57842</td></tr><tr><td>-3.828253</td><td>-5.539696</td><td>-3.295806</td><td>-13.376623</td><td>8.874133</td></tr><tr><td>2.944577</td><td>5.226636</td><td>-0.712268</td><td>-4.347826</td><td>2.59383</td></tr><tr><td>-1.675162</td><td>-3.201441</td><td>-3.232029</td><td>-16.45768</td><td>-3.871913</td></tr><tr><td>4.377104</td><td>12.581031</td><td>-1.402945</td><td>53.283302</td><td>12.018292</td></tr><tr><td>3.387098</td><td>3.513565</td><td>1.293556</td><td>-4.406365</td><td>4.097185</td></tr><tr><td>2.901723</td><td>-1.942295</td><td>4.629256</td><td>11.651729</td><td>3.726793</td></tr><tr><td>-0.145542</td><td>4.71154</td><td>-0.450069</td><td>-8.486239</td><td>-2.664073</td></tr><tr><td>0.33402</td><td>0.51423</td><td>-1.80843</td><td>50.0</td><td>-1.031922</td></tr><tr><td>&hellip;</td><td>&hellip;</td><td>&hellip;</td><td>&hellip;</td><td>&hellip;</td></tr><tr><td>5.519386</td><td>2.830408</td><td>0.757275</td><td>2.125399</td><td>7.399182</td></tr><tr><td>1.899099</td><td>2.148295</td><td>2.596963</td><td>4.058273</td><td>1.992346</td></tr><tr><td>0.147609</td><td>0.934715</td><td>1.497805</td><td>14.1</td><td>-3.087346</td></tr><tr><td>0.668529</td><td>-3.545069</td><td>3.460504</td><td>20.070114</td><td>-2.116129</td></tr><tr><td>2.337378</td><td>2.490243</td><td>0.878234</td><td>22.481759</td><td>1.584519</td></tr><tr><td>0.950386</td><td>-2.049183</td><td>0.166701</td><td>8.998808</td><td>2.913315</td></tr><tr><td>-2.009415</td><td>6.634792</td><td>-0.055475</td><td>46.036072</td><td>-0.122726</td></tr><tr><td>-0.55269</td><td>-1.25421</td><td>0.869621</td><td>-12.055407</td><td>1.417164</td></tr><tr><td>-5.895188</td><td>-2.511881</td><td>-2.684194</td><td>2.681997</td><td>-0.858204</td></tr><tr><td>2.616186</td><td>4.985811</td><td>4.171902</td><td>-21.310119</td><td>11.432465</td></tr><tr><td>3.033563</td><td>2.585965</td><td>3.42581</td><td>-15.015811</td><td>8.738804</td></tr><tr><td>1.534768</td><td>-0.175707</td><td>1.434573</td><td>0.867954</td><td>0.273992</td></tr></tbody></table></div>"
      ],
      "text/plain": [
       "shape: (53, 5)\n",
       "┌───────────┬───────────┬───────────┬────────────┬───────────┐\n",
       "│ AAPL      ┆ GOOG      ┆ IBM       ┆ MARA       ┆ NVDA      │\n",
       "│ ---       ┆ ---       ┆ ---       ┆ ---        ┆ ---       │\n",
       "│ f64       ┆ f64       ┆ f64       ┆ f64        ┆ f64       │\n",
       "╞═══════════╪═══════════╪═══════════╪════════════╪═══════════╡\n",
       "│ 5.257744  ┆ 1.44037   ┆ -4.822947 ┆ -0.619579  ┆ 14.159983 │\n",
       "│ 5.872672  ┆ 4.478207  ┆ 1.897465  ┆ -11.845387 ┆ 3.609136  │\n",
       "│ -2.258887 ┆ -9.846037 ┆ -0.978528 ┆ -16.265912 ┆ 0.781988  │\n",
       "│ 1.174039  ┆ -0.284635 ┆ -0.42773  ┆ 30.067568  ┆ 0.57842   │\n",
       "│ -3.828253 ┆ -5.539696 ┆ -3.295806 ┆ -13.376623 ┆ 8.874133  │\n",
       "│ …         ┆ …         ┆ …         ┆ …          ┆ …         │\n",
       "│ -0.55269  ┆ -1.25421  ┆ 0.869621  ┆ -12.055407 ┆ 1.417164  │\n",
       "│ -5.895188 ┆ -2.511881 ┆ -2.684194 ┆ 2.681997   ┆ -0.858204 │\n",
       "│ 2.616186  ┆ 4.985811  ┆ 4.171902  ┆ -21.310119 ┆ 11.432465 │\n",
       "│ 3.033563  ┆ 2.585965  ┆ 3.42581   ┆ -15.015811 ┆ 8.738804  │\n",
       "│ 1.534768  ┆ -0.175707 ┆ 1.434573  ┆ 0.867954   ┆ 0.273992  │\n",
       "└───────────┴───────────┴───────────┴────────────┴───────────┘"
      ]
     },
     "execution_count": 65,
     "metadata": {},
     "output_type": "execute_result"
    }
   ],
   "source": [
    "# Get all the stock names to iterate over\n",
    "stock_names = stocks_1.columns[1:]\n",
    "\n",
    "# Calculate the weekly return percentage for each stock\n",
    "stocks_1 = (\n",
    "    stocks_1.with_columns(\n",
    "        ((pl.col(s) - pl.col(s).shift(1)) / pl.col(s).shift(1) * 100.0).alias(s)\n",
    "        for s in stock_names\n",
    "    )\n",
    "    .filter(pl.col(\"Date\") != \"1/16/2023\")\n",
    "    .drop(\"Date\")\n",
    ")\n",
    "stocks_1"
   ]
  },
  {
   "cell_type": "code",
   "execution_count": 66,
   "metadata": {},
   "outputs": [
    {
     "data": {
      "text/html": [
       "<div><style>\n",
       ".dataframe > thead > tr,\n",
       ".dataframe > tbody > tr {\n",
       "  text-align: right;\n",
       "  white-space: pre-wrap;\n",
       "}\n",
       "</style>\n",
       "<small>shape: (5, 5)</small><table border=\"1\" class=\"dataframe\"><thead><tr><th>AAPL</th><th>GOOG</th><th>IBM</th><th>MARA</th><th>NVDA</th></tr><tr><td>f64</td><td>f64</td><td>f64</td><td>f64</td><td>f64</td></tr></thead><tbody><tr><td>8.891972</td><td>6.163829</td><td>2.499224</td><td>9.3736</td><td>9.096995</td></tr><tr><td>6.163829</td><td>19.498635</td><td>1.234442</td><td>17.023391</td><td>9.833599</td></tr><tr><td>2.499224</td><td>1.234442</td><td>6.123906</td><td>-1.107004</td><td>2.074088</td></tr><tr><td>9.3736</td><td>17.023391</td><td>-1.107004</td><td>292.463474</td><td>1.309068</td></tr><tr><td>9.096995</td><td>9.833599</td><td>2.074088</td><td>1.309068</td><td>36.943424</td></tr></tbody></table></div>"
      ],
      "text/plain": [
       "shape: (5, 5)\n",
       "┌──────────┬───────────┬───────────┬────────────┬───────────┐\n",
       "│ AAPL     ┆ GOOG      ┆ IBM       ┆ MARA       ┆ NVDA      │\n",
       "│ ---      ┆ ---       ┆ ---       ┆ ---        ┆ ---       │\n",
       "│ f64      ┆ f64       ┆ f64       ┆ f64        ┆ f64       │\n",
       "╞══════════╪═══════════╪═══════════╪════════════╪═══════════╡\n",
       "│ 8.891972 ┆ 6.163829  ┆ 2.499224  ┆ 9.3736     ┆ 9.096995  │\n",
       "│ 6.163829 ┆ 19.498635 ┆ 1.234442  ┆ 17.023391  ┆ 9.833599  │\n",
       "│ 2.499224 ┆ 1.234442  ┆ 6.123906  ┆ -1.107004  ┆ 2.074088  │\n",
       "│ 9.3736   ┆ 17.023391 ┆ -1.107004 ┆ 292.463474 ┆ 1.309068  │\n",
       "│ 9.096995 ┆ 9.833599  ┆ 2.074088  ┆ 1.309068   ┆ 36.943424 │\n",
       "└──────────┴───────────┴───────────┴────────────┴───────────┘"
      ]
     },
     "execution_count": 66,
     "metadata": {},
     "output_type": "execute_result"
    }
   ],
   "source": [
    "def calculate_covariance(df: pl.DataFrame):\n",
    "    # Center columns with the mean\n",
    "    centered_df = df.select(\n",
    "        [(pl.col(c) - pl.col(c).mean()).alias(c) for c in df.columns]\n",
    "    )\n",
    "\n",
    "    # Calculate pairwise covariance and construct covariance matrix\n",
    "    n = len(df) - 1\n",
    "    cov_matrix = pl.DataFrame(\n",
    "        [\n",
    "            [(centered_df[c1] * centered_df[c2]).sum() / n for c1 in df.columns]\n",
    "            for c2 in df.columns\n",
    "        ],\n",
    "        schema=df.schema,\n",
    "    )\n",
    "\n",
    "    return cov_matrix\n",
    "\n",
    "\n",
    "n_stocks = len(stock_names)\n",
    "stock_return = stocks_1.mean()\n",
    "cov_mat = calculate_covariance(stocks_1)\n",
    "cov_mat"
   ]
  },
  {
   "cell_type": "code",
   "execution_count": 67,
   "metadata": {},
   "outputs": [
    {
     "data": {
      "text/html": [
       "<div>\n",
       "<style scoped>\n",
       "    .dataframe tbody tr th:only-of-type {\n",
       "        vertical-align: middle;\n",
       "    }\n",
       "\n",
       "    .dataframe tbody tr th {\n",
       "        vertical-align: top;\n",
       "    }\n",
       "\n",
       "    .dataframe thead th {\n",
       "        text-align: right;\n",
       "    }\n",
       "</style>\n",
       "<table border=\"1\" class=\"dataframe\">\n",
       "  <thead>\n",
       "    <tr style=\"text-align: right;\">\n",
       "      <th></th>\n",
       "      <th>AAPL</th>\n",
       "      <th>GOOG</th>\n",
       "      <th>IBM</th>\n",
       "      <th>MARA</th>\n",
       "      <th>NVDA</th>\n",
       "    </tr>\n",
       "  </thead>\n",
       "  <tbody>\n",
       "    <tr>\n",
       "      <th>AAPL</th>\n",
       "      <td>8.891972</td>\n",
       "      <td>6.163829</td>\n",
       "      <td>2.499224</td>\n",
       "      <td>9.373600</td>\n",
       "      <td>9.096995</td>\n",
       "    </tr>\n",
       "    <tr>\n",
       "      <th>GOOG</th>\n",
       "      <td>6.163829</td>\n",
       "      <td>19.498635</td>\n",
       "      <td>1.234442</td>\n",
       "      <td>17.023391</td>\n",
       "      <td>9.833599</td>\n",
       "    </tr>\n",
       "    <tr>\n",
       "      <th>IBM</th>\n",
       "      <td>2.499224</td>\n",
       "      <td>1.234442</td>\n",
       "      <td>6.123906</td>\n",
       "      <td>-1.107004</td>\n",
       "      <td>2.074088</td>\n",
       "    </tr>\n",
       "    <tr>\n",
       "      <th>MARA</th>\n",
       "      <td>9.373600</td>\n",
       "      <td>17.023391</td>\n",
       "      <td>-1.107004</td>\n",
       "      <td>292.463474</td>\n",
       "      <td>1.309068</td>\n",
       "    </tr>\n",
       "    <tr>\n",
       "      <th>NVDA</th>\n",
       "      <td>9.096995</td>\n",
       "      <td>9.833599</td>\n",
       "      <td>2.074088</td>\n",
       "      <td>1.309068</td>\n",
       "      <td>36.943424</td>\n",
       "    </tr>\n",
       "  </tbody>\n",
       "</table>\n",
       "</div>"
      ],
      "text/plain": [
       "          AAPL       GOOG       IBM        MARA       NVDA\n",
       "AAPL  8.891972   6.163829  2.499224    9.373600   9.096995\n",
       "GOOG  6.163829  19.498635  1.234442   17.023391   9.833599\n",
       "IBM   2.499224   1.234442  6.123906   -1.107004   2.074088\n",
       "MARA  9.373600  17.023391 -1.107004  292.463474   1.309068\n",
       "NVDA  9.096995   9.833599  2.074088    1.309068  36.943424"
      ]
     },
     "execution_count": 67,
     "metadata": {},
     "output_type": "execute_result"
    }
   ],
   "source": [
    "# Verifying covariance matrix calculation with Pandas calculation\n",
    "stocks_1.to_pandas().cov()"
   ]
  },
  {
   "cell_type": "markdown",
   "metadata": {},
   "source": [
    "# Optimization Model"
   ]
  },
  {
   "cell_type": "code",
   "execution_count": 68,
   "metadata": {},
   "outputs": [
    {
     "name": "stdout",
     "output_type": "stream",
     "text": [
      "Gurobi Optimizer version 11.0.0 build v11.0.0rc2 (mac64[arm] - Darwin 23.3.0 23D56)\n",
      "\n",
      "CPU model: Apple M2 Pro\n",
      "Thread count: 12 physical cores, 12 logical processors, using up to 12 threads\n",
      "\n",
      "Optimize a model with 2 rows, 5 columns and 10 nonzeros\n",
      "Model fingerprint: 0x7db700ff\n",
      "Model has 15 quadratic objective terms\n",
      "Coefficient statistics:\n",
      "  Matrix range     [4e-01, 3e+00]\n",
      "  Objective range  [0e+00, 0e+00]\n",
      "  QObjective range [4e+00, 6e+02]\n",
      "  Bounds range     [0e+00, 0e+00]\n",
      "  RHS range        [9e-03, 1e+00]\n",
      "Presolve time: 0.00s\n",
      "Presolved: 2 rows, 5 columns, 10 nonzeros\n",
      "Presolved model has 15 quadratic objective terms\n",
      "Ordering time: 0.00s\n",
      "\n",
      "Barrier statistics:\n",
      " Free vars  : 4\n",
      " AA' NZ     : 1.500e+01\n",
      " Factor NZ  : 2.100e+01\n",
      " Factor Ops : 9.100e+01 (less than 1 second per iteration)\n",
      " Threads    : 1\n",
      "\n",
      "                  Objective                Residual\n",
      "Iter       Primal          Dual         Primal    Dual     Compl     Time\n",
      "   0   5.72937239e+07 -5.72937239e+07  4.00e+03 3.51e-06  1.00e+06     0s\n",
      "   1   4.62851172e+06 -4.70932458e+06  3.12e+02 2.74e-07  8.82e+04     0s\n",
      "   2   1.21399812e+05 -2.39808465e+05  1.36e+01 1.19e-08  4.31e+03     0s\n",
      "   3   1.90011585e+02 -1.19040355e+05  1.36e-05 1.19e-14  1.55e+02     0s\n",
      "   4   1.88993691e+02 -5.43964914e+02  6.98e-08 4.68e-17  9.54e-01     0s\n",
      "   5   1.85921498e+01 -4.24362487e+02  7.01e-14 6.14e-17  5.77e-01     0s\n",
      "   6   1.52607463e+01 -1.15899773e+01  1.55e-15 3.16e-18  3.50e-02     0s\n",
      "   7   5.80552000e+00 -6.61092229e+00  6.66e-16 1.46e-17  1.62e-02     0s\n",
      "   8   4.88380423e+00  4.00919661e+00  5.55e-17 1.03e-17  1.14e-03     0s\n",
      "   9   4.64698885e+00  4.51786036e+00  3.89e-16 2.04e-17  1.68e-04     0s\n",
      "  10   4.61178383e+00  4.60106895e+00  1.11e-16 1.15e-17  1.40e-05     0s\n",
      "  11   4.60708599e+00  4.60594621e+00  1.89e-15 2.04e-17  1.48e-06     0s\n",
      "  12   4.60640365e+00  4.60636335e+00  3.44e-15 1.42e-17  5.25e-08     0s\n",
      "  13   4.60636720e+00  4.60636715e+00  8.99e-15 1.67e-17  7.39e-11     0s\n",
      "\n",
      "Barrier solved model in 13 iterations and 0.01 seconds (0.00 work units)\n",
      "Optimal objective 4.60636720e+00\n",
      "\n",
      "C0: 0.26252222844963036\n",
      "C1: 0.11096864618541885\n",
      "C2: 0.623272695033036\n",
      "C3: 0.0032362737937073833\n",
      "C4: 1.5653818942783422e-07\n"
     ]
    }
   ],
   "source": [
    "cov_mat = cov_mat.to_pandas()\n",
    "cov_mat.index = stock_names\n",
    "\n",
    "stock_return = stock_return.to_pandas().loc[0]\n",
    "\n",
    "m = Model(\"Portfolio\")\n",
    "\n",
    "vars = pd.Series(m.addVars(stock_names, lb=0), index=stock_names)\n",
    "\n",
    "portfolio_risk = cov_mat.dot(vars).dot(vars)\n",
    "m.setObjective(portfolio_risk, GRB.MINIMIZE)\n",
    "\n",
    "m.addConstr(vars.sum() == 1, \"budget\")\n",
    "m.addConstr(stock_return.dot(vars) >= 0.009, \"return\")\n",
    "\n",
    "m.optimize()\n",
    "\n",
    "for v in vars:\n",
    "    print(f\"{v.varName}: {v.x}\")"
   ]
  },
  {
   "cell_type": "markdown",
   "metadata": {},
   "source": [
    "# Efficient Frontier"
   ]
  },
  {
   "cell_type": "code",
   "execution_count": 83,
   "metadata": {},
   "outputs": [
    {
     "data": {
      "text/html": [
       "<div><style>\n",
       ".dataframe > thead > tr,\n",
       ".dataframe > tbody > tr {\n",
       "  text-align: right;\n",
       "  white-space: pre-wrap;\n",
       "}\n",
       "</style>\n",
       "<small>shape: (13, 5)</small><table border=\"1\" class=\"dataframe\"><thead><tr><th>AAPL</th><th>GOOG</th><th>IBM</th><th>MARA</th><th>NVDA</th></tr><tr><td>f64</td><td>f64</td><td>f64</td><td>f64</td><td>f64</td></tr></thead><tbody><tr><td>8.990764</td><td>10.950861</td><td>1.287838</td><td>44.070986</td><td>15.970357</td></tr><tr><td>6.658355</td><td>15.29672</td><td>4.779337</td><td>1.713685</td><td>38.036822</td></tr><tr><td>-6.07606</td><td>6.849234</td><td>7.656165</td><td>15.513621</td><td>5.983529</td></tr><tr><td>-9.906747</td><td>-3.546322</td><td>-5.189286</td><td>-32.748882</td><td>-10.400095</td></tr><tr><td>3.412034</td><td>-0.325277</td><td>5.463366</td><td>11.511057</td><td>4.563411</td></tr><tr><td>0.725659</td><td>5.821642</td><td>1.859081</td><td>65.461232</td><td>5.792273</td></tr><tr><td>2.89736</td><td>4.163676</td><td>-3.598409</td><td>28.882894</td><td>-0.02377</td></tr><tr><td>11.130415</td><td>5.918576</td><td>-2.925482</td><td>-12.464965</td><td>17.76912</td></tr><tr><td>8.234623</td><td>2.368349</td><td>8.312548</td><td>40.353785</td><td>4.188053</td></tr><tr><td>-1.968524</td><td>-10.443732</td><td>-5.414331</td><td>-3.922794</td><td>12.828371</td></tr><tr><td>4.404447</td><td>6.374629</td><td>2.596843</td><td>-22.922367</td><td>9.113947</td></tr><tr><td>7.050706</td><td>-3.420731</td><td>1.314804</td><td>36.318733</td><td>7.788712</td></tr><tr><td>1.289328</td><td>4.884188</td><td>6.348091</td><td>-32.77598</td><td>19.587057</td></tr></tbody></table></div>"
      ],
      "text/plain": [
       "shape: (13, 5)\n",
       "┌───────────┬────────────┬───────────┬────────────┬────────────┐\n",
       "│ AAPL      ┆ GOOG       ┆ IBM       ┆ MARA       ┆ NVDA       │\n",
       "│ ---       ┆ ---        ┆ ---       ┆ ---        ┆ ---        │\n",
       "│ f64       ┆ f64        ┆ f64       ┆ f64        ┆ f64        │\n",
       "╞═══════════╪════════════╪═══════════╪════════════╪════════════╡\n",
       "│ 8.990764  ┆ 10.950861  ┆ 1.287838  ┆ 44.070986  ┆ 15.970357  │\n",
       "│ 6.658355  ┆ 15.29672   ┆ 4.779337  ┆ 1.713685   ┆ 38.036822  │\n",
       "│ -6.07606  ┆ 6.849234   ┆ 7.656165  ┆ 15.513621  ┆ 5.983529   │\n",
       "│ -9.906747 ┆ -3.546322  ┆ -5.189286 ┆ -32.748882 ┆ -10.400095 │\n",
       "│ 3.412034  ┆ -0.325277  ┆ 5.463366  ┆ 11.511057  ┆ 4.563411   │\n",
       "│ …         ┆ …          ┆ …         ┆ …          ┆ …          │\n",
       "│ 8.234623  ┆ 2.368349   ┆ 8.312548  ┆ 40.353785  ┆ 4.188053   │\n",
       "│ -1.968524 ┆ -10.443732 ┆ -5.414331 ┆ -3.922794  ┆ 12.828371  │\n",
       "│ 4.404447  ┆ 6.374629   ┆ 2.596843  ┆ -22.922367 ┆ 9.113947   │\n",
       "│ 7.050706  ┆ -3.420731  ┆ 1.314804  ┆ 36.318733  ┆ 7.788712   │\n",
       "│ 1.289328  ┆ 4.884188   ┆ 6.348091  ┆ -32.77598  ┆ 19.587057  │\n",
       "└───────────┴────────────┴───────────┴────────────┴────────────┘"
      ]
     },
     "execution_count": 83,
     "metadata": {},
     "output_type": "execute_result"
    }
   ],
   "source": [
    "stocks_2 = pl.read_csv(\"stocks.csv\")\n",
    "stock_names = stocks_2.columns[1:]\n",
    "\n",
    "stocks_2 = (\n",
    "    stocks_2.with_columns(\n",
    "        *[\n",
    "            ((pl.col(s) - pl.col(s).shift(1)) / pl.col(s).shift(1) * 100.0).alias(s)\n",
    "            for s in stock_names\n",
    "        ],\n",
    "        pl.col(\"Date\").str.to_date(\"%m/%d/%Y\").alias(\"Date\"),\n",
    "    )\n",
    "    .with_columns(\n",
    "        [\n",
    "            pl.col(\"Date\").dt.year().alias(\"year\"),\n",
    "            pl.col(\"Date\").dt.month().alias(\"month\"),\n",
    "        ]\n",
    "    )\n",
    "    .filter(pl.col(\"Date\") != pl.date(2023, 1, 16))\n",
    "    .group_by([\"year\", \"month\"])\n",
    "    .agg(pl.all().sum())\n",
    "    .drop(\"Date\", \"year\", \"month\")\n",
    ")\n",
    "stocks_2"
   ]
  },
  {
   "cell_type": "code",
   "execution_count": 85,
   "metadata": {},
   "outputs": [
    {
     "data": {
      "text/html": [
       "<div><style>\n",
       ".dataframe > thead > tr,\n",
       ".dataframe > tbody > tr {\n",
       "  text-align: right;\n",
       "  white-space: pre-wrap;\n",
       "}\n",
       "</style>\n",
       "<small>shape: (1, 5)</small><table border=\"1\" class=\"dataframe\"><thead><tr><th>AAPL</th><th>GOOG</th><th>IBM</th><th>MARA</th><th>NVDA</th></tr><tr><td>f64</td><td>f64</td><td>f64</td><td>f64</td><td>f64</td></tr></thead><tbody><tr><td>6.074022</td><td>6.680909</td><td>4.770849</td><td>31.281188</td><td>11.551896</td></tr></tbody></table></div>"
      ],
      "text/plain": [
       "shape: (1, 5)\n",
       "┌──────────┬──────────┬──────────┬───────────┬───────────┐\n",
       "│ AAPL     ┆ GOOG     ┆ IBM      ┆ MARA      ┆ NVDA      │\n",
       "│ ---      ┆ ---      ┆ ---      ┆ ---       ┆ ---       │\n",
       "│ f64      ┆ f64      ┆ f64      ┆ f64       ┆ f64       │\n",
       "╞══════════╪══════════╪══════════╪═══════════╪═══════════╡\n",
       "│ 6.074022 ┆ 6.680909 ┆ 4.770849 ┆ 31.281188 ┆ 11.551896 │\n",
       "└──────────┴──────────┴──────────┴───────────┴───────────┘"
      ]
     },
     "execution_count": 85,
     "metadata": {},
     "output_type": "execute_result"
    }
   ],
   "source": [
    "stock_volatility = stocks_2.std()\n",
    "stock_return = stocks_2.mean()"
   ]
  }
 ],
 "metadata": {
  "kernelspec": {
   "display_name": "msa",
   "language": "python",
   "name": "python3"
  },
  "language_info": {
   "codemirror_mode": {
    "name": "ipython",
    "version": 3
   },
   "file_extension": ".py",
   "mimetype": "text/x-python",
   "name": "python",
   "nbconvert_exporter": "python",
   "pygments_lexer": "ipython3",
   "version": "3.11.6"
  }
 },
 "nbformat": 4,
 "nbformat_minor": 2
}
