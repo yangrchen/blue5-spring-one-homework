{
 "cells": [
  {
   "cell_type": "code",
   "execution_count": 49,
   "metadata": {},
   "outputs": [
    {
     "data": {
      "text/html": [
       "<div>\n",
       "<style scoped>\n",
       "    .dataframe tbody tr th:only-of-type {\n",
       "        vertical-align: middle;\n",
       "    }\n",
       "\n",
       "    .dataframe tbody tr th {\n",
       "        vertical-align: top;\n",
       "    }\n",
       "\n",
       "    .dataframe thead th {\n",
       "        text-align: right;\n",
       "    }\n",
       "</style>\n",
       "<table border=\"1\" class=\"dataframe\">\n",
       "  <thead>\n",
       "    <tr style=\"text-align: right;\">\n",
       "      <th></th>\n",
       "      <th>Date</th>\n",
       "      <th>U.S. Nominal Cost per Crude Oil Well Drilled (Thousand Dollars per Well)</th>\n",
       "      <th>U.S. Nominal Cost per Natural Gas Well Drilled (Thousand Dollars per Well)</th>\n",
       "      <th>U.S. Nominal Cost per Dry Well Drilled (Thousand Dollars per Well)</th>\n",
       "      <th>Arithmetic Return - Crude Oil</th>\n",
       "      <th>Arithmetic Return - Natural Gas</th>\n",
       "      <th>Arithmetic Return - Dry Well</th>\n",
       "    </tr>\n",
       "  </thead>\n",
       "  <tbody>\n",
       "    <tr>\n",
       "      <th>0</th>\n",
       "      <td>1960-06-30</td>\n",
       "      <td>52.2</td>\n",
       "      <td>102.7</td>\n",
       "      <td>44.0</td>\n",
       "      <td>.</td>\n",
       "      <td>.</td>\n",
       "      <td>.</td>\n",
       "    </tr>\n",
       "    <tr>\n",
       "      <th>1</th>\n",
       "      <td>1961-06-30</td>\n",
       "      <td>51.3</td>\n",
       "      <td>94.7</td>\n",
       "      <td>45.2</td>\n",
       "      <td>-0.017241</td>\n",
       "      <td>-0.077897</td>\n",
       "      <td>0.027273</td>\n",
       "    </tr>\n",
       "    <tr>\n",
       "      <th>2</th>\n",
       "      <td>1962-06-30</td>\n",
       "      <td>54.2</td>\n",
       "      <td>97.1</td>\n",
       "      <td>50.8</td>\n",
       "      <td>0.05653</td>\n",
       "      <td>0.025343</td>\n",
       "      <td>0.123894</td>\n",
       "    </tr>\n",
       "    <tr>\n",
       "      <th>3</th>\n",
       "      <td>1963-06-30</td>\n",
       "      <td>51.8</td>\n",
       "      <td>92.4</td>\n",
       "      <td>48.2</td>\n",
       "      <td>-0.04428</td>\n",
       "      <td>-0.048404</td>\n",
       "      <td>-0.051181</td>\n",
       "    </tr>\n",
       "    <tr>\n",
       "      <th>4</th>\n",
       "      <td>1964-06-30</td>\n",
       "      <td>50.6</td>\n",
       "      <td>104.8</td>\n",
       "      <td>48.5</td>\n",
       "      <td>-0.023166</td>\n",
       "      <td>0.134199</td>\n",
       "      <td>0.006224</td>\n",
       "    </tr>\n",
       "    <tr>\n",
       "      <th>5</th>\n",
       "      <td>1965-06-30</td>\n",
       "      <td>56.6</td>\n",
       "      <td>101.9</td>\n",
       "      <td>53.1</td>\n",
       "      <td>0.118577</td>\n",
       "      <td>-0.027672</td>\n",
       "      <td>0.094845</td>\n",
       "    </tr>\n",
       "    <tr>\n",
       "      <th>6</th>\n",
       "      <td>1966-06-30</td>\n",
       "      <td>62.2</td>\n",
       "      <td>133.8</td>\n",
       "      <td>56.9</td>\n",
       "      <td>0.09894</td>\n",
       "      <td>0.313052</td>\n",
       "      <td>0.071563</td>\n",
       "    </tr>\n",
       "    <tr>\n",
       "      <th>7</th>\n",
       "      <td>1967-06-30</td>\n",
       "      <td>66.6</td>\n",
       "      <td>141.0</td>\n",
       "      <td>61.5</td>\n",
       "      <td>0.07074</td>\n",
       "      <td>0.053812</td>\n",
       "      <td>0.080844</td>\n",
       "    </tr>\n",
       "    <tr>\n",
       "      <th>8</th>\n",
       "      <td>1968-06-30</td>\n",
       "      <td>79.1</td>\n",
       "      <td>148.5</td>\n",
       "      <td>66.2</td>\n",
       "      <td>0.187688</td>\n",
       "      <td>0.053191</td>\n",
       "      <td>0.076423</td>\n",
       "    </tr>\n",
       "    <tr>\n",
       "      <th>9</th>\n",
       "      <td>1969-06-30</td>\n",
       "      <td>86.5</td>\n",
       "      <td>154.3</td>\n",
       "      <td>70.2</td>\n",
       "      <td>0.093552</td>\n",
       "      <td>0.039057</td>\n",
       "      <td>0.060423</td>\n",
       "    </tr>\n",
       "  </tbody>\n",
       "</table>\n",
       "</div>"
      ],
      "text/plain": [
       "        Date  \\\n",
       "0 1960-06-30   \n",
       "1 1961-06-30   \n",
       "2 1962-06-30   \n",
       "3 1963-06-30   \n",
       "4 1964-06-30   \n",
       "5 1965-06-30   \n",
       "6 1966-06-30   \n",
       "7 1967-06-30   \n",
       "8 1968-06-30   \n",
       "9 1969-06-30   \n",
       "\n",
       "   U.S. Nominal Cost per Crude Oil Well Drilled (Thousand Dollars per Well)  \\\n",
       "0                                               52.2                          \n",
       "1                                               51.3                          \n",
       "2                                               54.2                          \n",
       "3                                               51.8                          \n",
       "4                                               50.6                          \n",
       "5                                               56.6                          \n",
       "6                                               62.2                          \n",
       "7                                               66.6                          \n",
       "8                                               79.1                          \n",
       "9                                               86.5                          \n",
       "\n",
       "   U.S. Nominal Cost per Natural Gas Well Drilled (Thousand Dollars per Well)  \\\n",
       "0                                              102.7                            \n",
       "1                                               94.7                            \n",
       "2                                               97.1                            \n",
       "3                                               92.4                            \n",
       "4                                              104.8                            \n",
       "5                                              101.9                            \n",
       "6                                              133.8                            \n",
       "7                                              141.0                            \n",
       "8                                              148.5                            \n",
       "9                                              154.3                            \n",
       "\n",
       "   U.S. Nominal Cost per Dry Well Drilled (Thousand Dollars per Well)  \\\n",
       "0                                               44.0                    \n",
       "1                                               45.2                    \n",
       "2                                               50.8                    \n",
       "3                                               48.2                    \n",
       "4                                               48.5                    \n",
       "5                                               53.1                    \n",
       "6                                               56.9                    \n",
       "7                                               61.5                    \n",
       "8                                               66.2                    \n",
       "9                                               70.2                    \n",
       "\n",
       "  Arithmetic Return - Crude Oil Arithmetic Return - Natural Gas  \\\n",
       "0                             .                               .   \n",
       "1                     -0.017241                       -0.077897   \n",
       "2                       0.05653                        0.025343   \n",
       "3                      -0.04428                       -0.048404   \n",
       "4                     -0.023166                        0.134199   \n",
       "5                      0.118577                       -0.027672   \n",
       "6                       0.09894                        0.313052   \n",
       "7                       0.07074                        0.053812   \n",
       "8                      0.187688                        0.053191   \n",
       "9                      0.093552                        0.039057   \n",
       "\n",
       "  Arithmetic Return - Dry Well  \n",
       "0                            .  \n",
       "1                     0.027273  \n",
       "2                     0.123894  \n",
       "3                    -0.051181  \n",
       "4                     0.006224  \n",
       "5                     0.094845  \n",
       "6                     0.071563  \n",
       "7                     0.080844  \n",
       "8                     0.076423  \n",
       "9                     0.060423  "
      ]
     },
     "execution_count": 49,
     "metadata": {},
     "output_type": "execute_result"
    }
   ],
   "source": [
    "import pandas as pd\n",
    "import numpy as np\n",
    "import numpy_financial as npf\n",
    "from scipy.stats import gaussian_kde, truncnorm\n",
    "import matplotlib.pyplot as plt\n",
    "from tqdm import tqdm\n",
    "\n",
    "SIM_SIZE = 200_000\n",
    "BIG_SIM_SIZE = 6_000_000\n",
    "NUM_YEARS = 15\n",
    "\n",
    "drill_costs = pd.read_excel(\"Analysis_Data.xlsx\", header=2, sheet_name=\"Drilling Cost\")\n",
    "\n",
    "drill_costs.head(10)"
   ]
  },
  {
   "cell_type": "markdown",
   "metadata": {},
   "source": [
    "# Phase 1: Drilling Costs"
   ]
  },
  {
   "cell_type": "code",
   "execution_count": 50,
   "metadata": {},
   "outputs": [
    {
     "data": {
      "text/html": [
       "<div>\n",
       "<style scoped>\n",
       "    .dataframe tbody tr th:only-of-type {\n",
       "        vertical-align: middle;\n",
       "    }\n",
       "\n",
       "    .dataframe tbody tr th {\n",
       "        vertical-align: top;\n",
       "    }\n",
       "\n",
       "    .dataframe thead th {\n",
       "        text-align: right;\n",
       "    }\n",
       "</style>\n",
       "<table border=\"1\" class=\"dataframe\">\n",
       "  <thead>\n",
       "    <tr style=\"text-align: right;\">\n",
       "      <th></th>\n",
       "      <th>Date</th>\n",
       "      <th>U.S. Nominal Cost per Crude Oil Well Drilled (Thousand Dollars per Well)</th>\n",
       "      <th>U.S. Nominal Cost per Natural Gas Well Drilled (Thousand Dollars per Well)</th>\n",
       "      <th>U.S. Nominal Cost per Dry Well Drilled (Thousand Dollars per Well)</th>\n",
       "      <th>Arithmetic Return - Crude Oil</th>\n",
       "      <th>Arithmetic Return - Natural Gas</th>\n",
       "      <th>Arithmetic Return - Dry Well</th>\n",
       "    </tr>\n",
       "  </thead>\n",
       "  <tbody>\n",
       "    <tr>\n",
       "      <th>31</th>\n",
       "      <td>1991-06-30</td>\n",
       "      <td>346.9</td>\n",
       "      <td>506.6</td>\n",
       "      <td>441.2</td>\n",
       "      <td>0.077999</td>\n",
       "      <td>0.074899</td>\n",
       "      <td>0.200544</td>\n",
       "    </tr>\n",
       "    <tr>\n",
       "      <th>32</th>\n",
       "      <td>1992-06-30</td>\n",
       "      <td>362.3</td>\n",
       "      <td>426.1</td>\n",
       "      <td>357.6</td>\n",
       "      <td>0.044393</td>\n",
       "      <td>-0.158902</td>\n",
       "      <td>-0.189483</td>\n",
       "    </tr>\n",
       "    <tr>\n",
       "      <th>33</th>\n",
       "      <td>1993-06-30</td>\n",
       "      <td>356.6</td>\n",
       "      <td>521.2</td>\n",
       "      <td>387.7</td>\n",
       "      <td>-0.015733</td>\n",
       "      <td>0.223187</td>\n",
       "      <td>0.084172</td>\n",
       "    </tr>\n",
       "    <tr>\n",
       "      <th>34</th>\n",
       "      <td>1994-06-30</td>\n",
       "      <td>409.5</td>\n",
       "      <td>535.1</td>\n",
       "      <td>491.5</td>\n",
       "      <td>0.148345</td>\n",
       "      <td>0.026669</td>\n",
       "      <td>0.267733</td>\n",
       "    </tr>\n",
       "    <tr>\n",
       "      <th>35</th>\n",
       "      <td>1995-06-30</td>\n",
       "      <td>415.8</td>\n",
       "      <td>629.7</td>\n",
       "      <td>481.2</td>\n",
       "      <td>0.015385</td>\n",
       "      <td>0.176789</td>\n",
       "      <td>-0.020956</td>\n",
       "    </tr>\n",
       "    <tr>\n",
       "      <th>36</th>\n",
       "      <td>1996-06-30</td>\n",
       "      <td>341.0</td>\n",
       "      <td>616.0</td>\n",
       "      <td>541.0</td>\n",
       "      <td>-0.179894</td>\n",
       "      <td>-0.021756</td>\n",
       "      <td>0.124273</td>\n",
       "    </tr>\n",
       "    <tr>\n",
       "      <th>37</th>\n",
       "      <td>1997-06-30</td>\n",
       "      <td>445.6</td>\n",
       "      <td>728.6</td>\n",
       "      <td>655.6</td>\n",
       "      <td>0.306745</td>\n",
       "      <td>0.182792</td>\n",
       "      <td>0.21183</td>\n",
       "    </tr>\n",
       "    <tr>\n",
       "      <th>38</th>\n",
       "      <td>1998-06-30</td>\n",
       "      <td>566.0</td>\n",
       "      <td>815.6</td>\n",
       "      <td>973.2</td>\n",
       "      <td>0.270197</td>\n",
       "      <td>0.119407</td>\n",
       "      <td>0.484442</td>\n",
       "    </tr>\n",
       "    <tr>\n",
       "      <th>39</th>\n",
       "      <td>1999-06-30</td>\n",
       "      <td>783.0</td>\n",
       "      <td>798.4</td>\n",
       "      <td>1115.5</td>\n",
       "      <td>0.383392</td>\n",
       "      <td>-0.021089</td>\n",
       "      <td>0.146219</td>\n",
       "    </tr>\n",
       "    <tr>\n",
       "      <th>40</th>\n",
       "      <td>2000-06-30</td>\n",
       "      <td>593.4</td>\n",
       "      <td>756.9</td>\n",
       "      <td>1075.4</td>\n",
       "      <td>-0.242146</td>\n",
       "      <td>-0.051979</td>\n",
       "      <td>-0.035948</td>\n",
       "    </tr>\n",
       "    <tr>\n",
       "      <th>41</th>\n",
       "      <td>2001-06-30</td>\n",
       "      <td>729.1</td>\n",
       "      <td>896.5</td>\n",
       "      <td>1620.4</td>\n",
       "      <td>0.228682</td>\n",
       "      <td>0.184437</td>\n",
       "      <td>0.506788</td>\n",
       "    </tr>\n",
       "    <tr>\n",
       "      <th>42</th>\n",
       "      <td>2002-06-30</td>\n",
       "      <td>882.8</td>\n",
       "      <td>991.9</td>\n",
       "      <td>1673.4</td>\n",
       "      <td>0.210808</td>\n",
       "      <td>0.106414</td>\n",
       "      <td>0.032708</td>\n",
       "    </tr>\n",
       "    <tr>\n",
       "      <th>43</th>\n",
       "      <td>2003-06-30</td>\n",
       "      <td>1037.3</td>\n",
       "      <td>1106.0</td>\n",
       "      <td>2065.1</td>\n",
       "      <td>0.175011</td>\n",
       "      <td>0.115032</td>\n",
       "      <td>0.234074</td>\n",
       "    </tr>\n",
       "    <tr>\n",
       "      <th>44</th>\n",
       "      <td>2004-06-30</td>\n",
       "      <td>1441.8</td>\n",
       "      <td>1716.4</td>\n",
       "      <td>1977.3</td>\n",
       "      <td>0.389955</td>\n",
       "      <td>0.551899</td>\n",
       "      <td>-0.042516</td>\n",
       "    </tr>\n",
       "    <tr>\n",
       "      <th>45</th>\n",
       "      <td>2005-06-30</td>\n",
       "      <td>1920.4</td>\n",
       "      <td>1497.6</td>\n",
       "      <td>2392.9</td>\n",
       "      <td>0.331946</td>\n",
       "      <td>-0.127476</td>\n",
       "      <td>0.210186</td>\n",
       "    </tr>\n",
       "    <tr>\n",
       "      <th>46</th>\n",
       "      <td>2006-06-30</td>\n",
       "      <td>2238.6</td>\n",
       "      <td>1936.2</td>\n",
       "      <td>2664.6</td>\n",
       "      <td>0.165695</td>\n",
       "      <td>0.292869</td>\n",
       "      <td>0.113544</td>\n",
       "    </tr>\n",
       "  </tbody>\n",
       "</table>\n",
       "</div>"
      ],
      "text/plain": [
       "         Date  \\\n",
       "31 1991-06-30   \n",
       "32 1992-06-30   \n",
       "33 1993-06-30   \n",
       "34 1994-06-30   \n",
       "35 1995-06-30   \n",
       "36 1996-06-30   \n",
       "37 1997-06-30   \n",
       "38 1998-06-30   \n",
       "39 1999-06-30   \n",
       "40 2000-06-30   \n",
       "41 2001-06-30   \n",
       "42 2002-06-30   \n",
       "43 2003-06-30   \n",
       "44 2004-06-30   \n",
       "45 2005-06-30   \n",
       "46 2006-06-30   \n",
       "\n",
       "    U.S. Nominal Cost per Crude Oil Well Drilled (Thousand Dollars per Well)  \\\n",
       "31                                              346.9                          \n",
       "32                                              362.3                          \n",
       "33                                              356.6                          \n",
       "34                                              409.5                          \n",
       "35                                              415.8                          \n",
       "36                                              341.0                          \n",
       "37                                              445.6                          \n",
       "38                                              566.0                          \n",
       "39                                              783.0                          \n",
       "40                                              593.4                          \n",
       "41                                              729.1                          \n",
       "42                                              882.8                          \n",
       "43                                             1037.3                          \n",
       "44                                             1441.8                          \n",
       "45                                             1920.4                          \n",
       "46                                             2238.6                          \n",
       "\n",
       "    U.S. Nominal Cost per Natural Gas Well Drilled (Thousand Dollars per Well)  \\\n",
       "31                                              506.6                            \n",
       "32                                              426.1                            \n",
       "33                                              521.2                            \n",
       "34                                              535.1                            \n",
       "35                                              629.7                            \n",
       "36                                              616.0                            \n",
       "37                                              728.6                            \n",
       "38                                              815.6                            \n",
       "39                                              798.4                            \n",
       "40                                              756.9                            \n",
       "41                                              896.5                            \n",
       "42                                              991.9                            \n",
       "43                                             1106.0                            \n",
       "44                                             1716.4                            \n",
       "45                                             1497.6                            \n",
       "46                                             1936.2                            \n",
       "\n",
       "    U.S. Nominal Cost per Dry Well Drilled (Thousand Dollars per Well)  \\\n",
       "31                                              441.2                    \n",
       "32                                              357.6                    \n",
       "33                                              387.7                    \n",
       "34                                              491.5                    \n",
       "35                                              481.2                    \n",
       "36                                              541.0                    \n",
       "37                                              655.6                    \n",
       "38                                              973.2                    \n",
       "39                                             1115.5                    \n",
       "40                                             1075.4                    \n",
       "41                                             1620.4                    \n",
       "42                                             1673.4                    \n",
       "43                                             2065.1                    \n",
       "44                                             1977.3                    \n",
       "45                                             2392.9                    \n",
       "46                                             2664.6                    \n",
       "\n",
       "   Arithmetic Return - Crude Oil Arithmetic Return - Natural Gas  \\\n",
       "31                      0.077999                        0.074899   \n",
       "32                      0.044393                       -0.158902   \n",
       "33                     -0.015733                        0.223187   \n",
       "34                      0.148345                        0.026669   \n",
       "35                      0.015385                        0.176789   \n",
       "36                     -0.179894                       -0.021756   \n",
       "37                      0.306745                        0.182792   \n",
       "38                      0.270197                        0.119407   \n",
       "39                      0.383392                       -0.021089   \n",
       "40                     -0.242146                       -0.051979   \n",
       "41                      0.228682                        0.184437   \n",
       "42                      0.210808                        0.106414   \n",
       "43                      0.175011                        0.115032   \n",
       "44                      0.389955                        0.551899   \n",
       "45                      0.331946                       -0.127476   \n",
       "46                      0.165695                        0.292869   \n",
       "\n",
       "   Arithmetic Return - Dry Well  \n",
       "31                     0.200544  \n",
       "32                    -0.189483  \n",
       "33                     0.084172  \n",
       "34                     0.267733  \n",
       "35                    -0.020956  \n",
       "36                     0.124273  \n",
       "37                      0.21183  \n",
       "38                     0.484442  \n",
       "39                     0.146219  \n",
       "40                    -0.035948  \n",
       "41                     0.506788  \n",
       "42                     0.032708  \n",
       "43                     0.234074  \n",
       "44                    -0.042516  \n",
       "45                     0.210186  \n",
       "46                     0.113544  "
      ]
     },
     "execution_count": 50,
     "metadata": {},
     "output_type": "execute_result"
    }
   ],
   "source": [
    "drill_costs = drill_costs[\n",
    "    (drill_costs[\"Date\"].dt.year >= 1991) & (drill_costs[\"Date\"].dt.year <= 2006)\n",
    "]\n",
    "drill_costs"
   ]
  },
  {
   "cell_type": "code",
   "execution_count": 51,
   "metadata": {},
   "outputs": [
    {
     "data": {
      "text/plain": [
       "(array([0.07799875699192034, 0.0748992149374072, 0.2005442176870748,\n",
       "        0.04439319688671097, -0.1589024871693644, -0.18948322756119668,\n",
       "        -0.015732818106541507, 0.22318704529453184, 0.08417225950782987,\n",
       "        0.14834548513740878, 0.026669224865694504, 0.26773278307970083,\n",
       "        0.015384615384615413, 0.17678938516165207, -0.02095625635808751,\n",
       "        -0.1798941798941799, -0.02175639193266642, 0.12427265170407317,\n",
       "        0.3067448680351907, 0.18279220779220784, 0.21182994454713497,\n",
       "        0.2701974865350089, 0.11940708207521274, 0.4844417327638804,\n",
       "        0.3833922261484099, -0.021088769004413983, 0.14621866009042328,\n",
       "        -0.24214559386973183, -0.05197895791583167, -0.03594800537875384,\n",
       "        0.22868217054263573, 0.1844365173734972, 0.5067881718430352,\n",
       "        0.21080784528871202, 0.10641383156720577, 0.03270797333991607,\n",
       "        0.17501132759401905, 0.11503175723359212, 0.2340743396677422,\n",
       "        0.38995469006073463, 0.5518987341772152, -0.042516100915209895,\n",
       "        0.33194617838812607, -0.12747611279422055, 0.21018560663531086,\n",
       "        0.1656946469485523, 0.29286858974358987, 0.11354423502862628],\n",
       "       dtype=object),\n",
       " 31     431.566667\n",
       " 32     382.000000\n",
       " 33     421.833333\n",
       " 34     478.700000\n",
       " 35     508.900000\n",
       " 36     499.333333\n",
       " 37     609.933333\n",
       " 38     784.933333\n",
       " 39     898.966667\n",
       " 40     808.566667\n",
       " 41    1082.000000\n",
       " 42    1182.700000\n",
       " 43    1402.800000\n",
       " 44    1711.833333\n",
       " 45    1936.966667\n",
       " 46    2279.800000\n",
       " Name: avg_cost, dtype: float64)"
      ]
     },
     "execution_count": 51,
     "metadata": {},
     "output_type": "execute_result"
    }
   ],
   "source": [
    "returns = drill_costs.filter(regex=\"^Arithmetic Return\").to_numpy().flatten()\n",
    "drill_costs[\"avg_cost\"] = drill_costs.filter(regex=\"^U.S.\").mean(axis=1)\n",
    "returns, drill_costs[\"avg_cost\"]"
   ]
  },
  {
   "cell_type": "code",
   "execution_count": 52,
   "metadata": {},
   "outputs": [
    {
     "data": {
      "text/plain": [
       "0.4610539557408639"
      ]
     },
     "execution_count": 52,
     "metadata": {},
     "output_type": "execute_result"
    }
   ],
   "source": [
    "rng = np.random.default_rng(1234)\n",
    "kernel = gaussian_kde(returns)\n",
    "\n",
    "initial_cost = drill_costs[\"avg_cost\"].iloc[-1]\n",
    "\n",
    "mean_return = returns.mean()\n",
    "std_return = returns.std()\n",
    "\n",
    "years_1 = 2012 - 2006\n",
    "years_2 = 2015 - 2012\n",
    "years_3 = 2024 - 2015\n",
    "\n",
    "kernel.factor"
   ]
  },
  {
   "cell_type": "code",
   "execution_count": 53,
   "metadata": {},
   "outputs": [
    {
     "name": "stderr",
     "output_type": "stream",
     "text": [
      "Initial drilling costs...: 100%|██████████| 6000000/6000000 [00:32<00:00, 184661.87it/s]\n"
     ]
    }
   ],
   "source": [
    "norm_data = []\n",
    "\n",
    "for i in tqdm(range(BIG_SIM_SIZE), \"Initial drilling costs...\"):\n",
    "    normal_return = rng.normal(mean_return, std_return, years_1)\n",
    "\n",
    "    phase_2 = rng.triangular(left=-0.22, mode=-0.0917, right=-0.07, size=years_2)\n",
    "    phase_3 = rng.triangular(left=0.02, mode=0.05, right=0.06, size=years_3)\n",
    "\n",
    "    normal_phases = np.concatenate((normal_return, phase_2, phase_3))\n",
    "\n",
    "    normal_future_vals = initial_cost * np.cumprod(1 + normal_phases)\n",
    "    norm_data.append(normal_future_vals[-1])"
   ]
  },
  {
   "cell_type": "code",
   "execution_count": 54,
   "metadata": {},
   "outputs": [
    {
     "data": {
      "image/png": "[encoded data removed]",
      "text/plain": [
       "<Figure size 640x480 with 1 Axes>"
      ]
     },
     "metadata": {},
     "output_type": "display_data"
    }
   ],
   "source": [
    "plt.rcParams.update({\"font.size\": 12})\n",
    "plt.hist(norm_data)\n",
    "plt.axvline(x=np.mean(norm_data), color=\"r\", linestyle=\"-\", linewidth=2)\n",
    "plt.xlabel(\"Average Cost\")\n",
    "plt.ylabel(\"Frequency\")\n",
    "plt.subplots_adjust(left=0.15, right=0.9, top=0.9, bottom=0.15)\n",
    "plt.show()"
   ]
  },
  {
   "cell_type": "markdown",
   "metadata": {},
   "source": [
    "# Year 0 Expenses"
   ]
  },
  {
   "cell_type": "code",
   "execution_count": 55,
   "metadata": {},
   "outputs": [],
   "source": [
    "def calculate_initial_expenses(is_dry: bool) -> np.ndarray:\n",
    "    acres = rng.normal(600, 50)\n",
    "    acres_cost = acres * 960\n",
    "    seismic_sections = rng.normal(3, 0.35)\n",
    "    seismic_sections_cost = seismic_sections * 43_000\n",
    "\n",
    "    completion_cost = rng.normal(390_000, 50_000) if not is_dry else 0\n",
    "\n",
    "    prof_overhead = rng.triangular(left=172_000, mode=215_000, right=279_500)\n",
    "    prof_overhead = prof_overhead * NUM_YEARS if not is_dry else prof_overhead\n",
    "    return acres_cost + seismic_sections_cost + prof_overhead + completion_cost\n",
    "\n",
    "\n",
    "dry_well_costs = []\n",
    "for _ in tqdm(range(BIG_SIM_SIZE), desc=\"Calculating dry costs...\"):\n",
    "    initial_cost = calculate_initial_expenses(is_dry=True)\n",
    "    dry_well_costs.append(initial_cost)\n",
    "\n",
    "dry_well_costs = np.array(dry_well_costs)"
   ]
  },
  {
   "cell_type": "code",
   "execution_count": 56,
   "metadata": {},
   "outputs": [
    {
     "name": "stderr",
     "output_type": "stream",
     "text": [
      "/var/folders/7s/plv7qn294jg_4c9nxj_69_380000gn/T/ipykernel_5669/3908440045.py:5: UserWarning: set_ticklabels() should only be used with a fixed number of ticks, i.e. after set_ticks() or using a FixedLocator.\n",
      "  ax.set_xticklabels([f\"{x / 1e6}M\" for x in ax.get_xticks()])\n"
     ]
    },
    {
     "data": {
      "image/png": "[encoded data removed]",
      "text/plain": [
       "<Figure size 1000x600 with 1 Axes>"
      ]
     },
     "metadata": {},
     "output_type": "display_data"
    }
   ],
   "source": [
    "plt.rcParams.update({\"font.size\": 12})\n",
    "fig, ax = plt.subplots(figsize=(10, 6))\n",
    "ax.hist(dry_well_costs, bins=100)\n",
    "ax.axvline(x=np.mean(dry_well_costs), color=\"r\", linestyle=\"-\", linewidth=2)\n",
    "ax.set_xticklabels([f\"{x / 1e6}M\" for x in ax.get_xticks()])\n",
    "plt.xlabel(\"Average Cost\")\n",
    "plt.ylabel(\"Frequency\")\n",
    "plt.subplots_adjust(left=0.15, right=0.9, top=0.9, bottom=0.15)\n",
    "plt.show()"
   ]
  },
  {
   "cell_type": "markdown",
   "metadata": {},
   "source": [
    "# Production Risk"
   ]
  },
  {
   "cell_type": "code",
   "execution_count": 57,
   "metadata": {},
   "outputs": [
    {
     "data": {
      "text/plain": [
       "array([-2.37313013e+04,  1.05051081e+07, -4.65028420e+09,  2.05853600e+12,\n",
       "       -9.11249783e+14,  4.03381901e+17, -1.78564606e+20,  7.90449903e+22,\n",
       "       -3.49907557e+25,  1.54893179e+28, -6.85663867e+30,  3.03522041e+33,\n",
       "       -1.34359756e+36,  5.94768797e+38, -2.63285625e+41])"
      ]
     },
     "execution_count": 57,
     "metadata": {},
     "output_type": "execute_result"
    }
   ],
   "source": [
    "import scipy as sp\n",
    "\n",
    "\n",
    "def standardize(x):\n",
    "    x_std = (x - np.mean(x)) / np.std(x)\n",
    "    return x_std\n",
    "\n",
    "\n",
    "def destandardize(x_std, x):\n",
    "    x_old = (x_std * np.std(x)) + np.mean(x)\n",
    "    return x_old\n",
    "\n",
    "\n",
    "R = np.array([[1, 0.64], [0.64, 1]])\n",
    "U = sp.linalg.cholesky(R, lower=False)\n",
    "\n",
    "decline_rate = rng.uniform(0.15, 0.32, size=BIG_SIM_SIZE)\n",
    "init_production = rng.lognormal(6, 0.28, size=BIG_SIM_SIZE)\n",
    "\n",
    "combined = np.array([standardize(decline_rate), standardize(init_production)])\n",
    "combined_u = U @ combined\n",
    "final_combined = np.array(\n",
    "    [\n",
    "        destandardize(combined_u[0], decline_rate),\n",
    "        destandardize(combined_u[1], init_production),\n",
    "    ]\n",
    ")\n",
    "\n",
    "\n",
    "def calculate_annual_production(decline_r: float, init_p: float) -> float:\n",
    "    rate_year_end = init_p * np.cumprod(1 - np.repeat(decline_r, NUM_YEARS))\n",
    "    rate_year_begin = np.concatenate(([init_p], rate_year_end[:-1]))\n",
    "    oil_volume_year = 365 * (rate_year_begin + rate_year_end) / 2\n",
    "    return oil_volume_year\n",
    "\n",
    "\n",
    "calculate_annual_production(init_production[0], decline_rate[0])"
   ]
  },
  {
   "cell_type": "markdown",
   "metadata": {},
   "source": [
    "# Revenue Risk"
   ]
  },
  {
   "cell_type": "code",
   "execution_count": 58,
   "metadata": {},
   "outputs": [
    {
     "data": {
      "text/html": [
       "<div>\n",
       "<style scoped>\n",
       "    .dataframe tbody tr th:only-of-type {\n",
       "        vertical-align: middle;\n",
       "    }\n",
       "\n",
       "    .dataframe tbody tr th {\n",
       "        vertical-align: top;\n",
       "    }\n",
       "\n",
       "    .dataframe thead th {\n",
       "        text-align: right;\n",
       "    }\n",
       "</style>\n",
       "<table border=\"1\" class=\"dataframe\">\n",
       "  <thead>\n",
       "    <tr style=\"text-align: right;\">\n",
       "      <th></th>\n",
       "      <th>Year</th>\n",
       "      <th>High Oil Price</th>\n",
       "      <th>Low Oil Price</th>\n",
       "      <th>AEO2023 Reference</th>\n",
       "    </tr>\n",
       "  </thead>\n",
       "  <tbody>\n",
       "    <tr>\n",
       "      <th>0</th>\n",
       "      <td>2025</td>\n",
       "      <td>167.871078</td>\n",
       "      <td>46.165466</td>\n",
       "      <td>85.233162</td>\n",
       "    </tr>\n",
       "    <tr>\n",
       "      <th>1</th>\n",
       "      <td>2026</td>\n",
       "      <td>166.263016</td>\n",
       "      <td>45.745247</td>\n",
       "      <td>85.255096</td>\n",
       "    </tr>\n",
       "    <tr>\n",
       "      <th>2</th>\n",
       "      <td>2027</td>\n",
       "      <td>167.971329</td>\n",
       "      <td>46.518333</td>\n",
       "      <td>85.532898</td>\n",
       "    </tr>\n",
       "    <tr>\n",
       "      <th>3</th>\n",
       "      <td>2028</td>\n",
       "      <td>166.407440</td>\n",
       "      <td>47.305279</td>\n",
       "      <td>86.264732</td>\n",
       "    </tr>\n",
       "    <tr>\n",
       "      <th>4</th>\n",
       "      <td>2029</td>\n",
       "      <td>166.329147</td>\n",
       "      <td>47.445293</td>\n",
       "      <td>86.738144</td>\n",
       "    </tr>\n",
       "    <tr>\n",
       "      <th>5</th>\n",
       "      <td>2030</td>\n",
       "      <td>167.323944</td>\n",
       "      <td>47.981407</td>\n",
       "      <td>87.188271</td>\n",
       "    </tr>\n",
       "    <tr>\n",
       "      <th>6</th>\n",
       "      <td>2031</td>\n",
       "      <td>169.405746</td>\n",
       "      <td>48.612011</td>\n",
       "      <td>87.748749</td>\n",
       "    </tr>\n",
       "    <tr>\n",
       "      <th>7</th>\n",
       "      <td>2032</td>\n",
       "      <td>168.357391</td>\n",
       "      <td>49.241779</td>\n",
       "      <td>88.512123</td>\n",
       "    </tr>\n",
       "    <tr>\n",
       "      <th>8</th>\n",
       "      <td>2033</td>\n",
       "      <td>170.008057</td>\n",
       "      <td>48.129913</td>\n",
       "      <td>88.937447</td>\n",
       "    </tr>\n",
       "    <tr>\n",
       "      <th>9</th>\n",
       "      <td>2034</td>\n",
       "      <td>172.798264</td>\n",
       "      <td>47.247337</td>\n",
       "      <td>89.608727</td>\n",
       "    </tr>\n",
       "    <tr>\n",
       "      <th>10</th>\n",
       "      <td>2035</td>\n",
       "      <td>173.151184</td>\n",
       "      <td>48.183853</td>\n",
       "      <td>90.032150</td>\n",
       "    </tr>\n",
       "    <tr>\n",
       "      <th>11</th>\n",
       "      <td>2036</td>\n",
       "      <td>172.493591</td>\n",
       "      <td>48.978317</td>\n",
       "      <td>90.825806</td>\n",
       "    </tr>\n",
       "    <tr>\n",
       "      <th>12</th>\n",
       "      <td>2037</td>\n",
       "      <td>175.043121</td>\n",
       "      <td>48.965652</td>\n",
       "      <td>91.434029</td>\n",
       "    </tr>\n",
       "    <tr>\n",
       "      <th>13</th>\n",
       "      <td>2038</td>\n",
       "      <td>173.234741</td>\n",
       "      <td>48.364807</td>\n",
       "      <td>91.807198</td>\n",
       "    </tr>\n",
       "    <tr>\n",
       "      <th>14</th>\n",
       "      <td>2039</td>\n",
       "      <td>174.075836</td>\n",
       "      <td>48.603676</td>\n",
       "      <td>92.341896</td>\n",
       "    </tr>\n",
       "    <tr>\n",
       "      <th>15</th>\n",
       "      <td>2040</td>\n",
       "      <td>174.940659</td>\n",
       "      <td>47.854874</td>\n",
       "      <td>92.759918</td>\n",
       "    </tr>\n",
       "    <tr>\n",
       "      <th>16</th>\n",
       "      <td>2041</td>\n",
       "      <td>176.923203</td>\n",
       "      <td>47.173283</td>\n",
       "      <td>93.263626</td>\n",
       "    </tr>\n",
       "    <tr>\n",
       "      <th>17</th>\n",
       "      <td>2042</td>\n",
       "      <td>179.773056</td>\n",
       "      <td>47.314938</td>\n",
       "      <td>93.719948</td>\n",
       "    </tr>\n",
       "    <tr>\n",
       "      <th>18</th>\n",
       "      <td>2043</td>\n",
       "      <td>180.724152</td>\n",
       "      <td>47.243107</td>\n",
       "      <td>94.111893</td>\n",
       "    </tr>\n",
       "    <tr>\n",
       "      <th>19</th>\n",
       "      <td>2044</td>\n",
       "      <td>183.160141</td>\n",
       "      <td>47.941982</td>\n",
       "      <td>94.517479</td>\n",
       "    </tr>\n",
       "    <tr>\n",
       "      <th>20</th>\n",
       "      <td>2045</td>\n",
       "      <td>181.649643</td>\n",
       "      <td>47.854973</td>\n",
       "      <td>94.856956</td>\n",
       "    </tr>\n",
       "    <tr>\n",
       "      <th>21</th>\n",
       "      <td>2046</td>\n",
       "      <td>182.023392</td>\n",
       "      <td>48.792587</td>\n",
       "      <td>95.591454</td>\n",
       "    </tr>\n",
       "    <tr>\n",
       "      <th>22</th>\n",
       "      <td>2047</td>\n",
       "      <td>183.127335</td>\n",
       "      <td>48.370846</td>\n",
       "      <td>96.024887</td>\n",
       "    </tr>\n",
       "    <tr>\n",
       "      <th>23</th>\n",
       "      <td>2048</td>\n",
       "      <td>184.838379</td>\n",
       "      <td>49.030907</td>\n",
       "      <td>96.717949</td>\n",
       "    </tr>\n",
       "    <tr>\n",
       "      <th>24</th>\n",
       "      <td>2049</td>\n",
       "      <td>184.530869</td>\n",
       "      <td>48.852909</td>\n",
       "      <td>97.444786</td>\n",
       "    </tr>\n",
       "    <tr>\n",
       "      <th>25</th>\n",
       "      <td>2050</td>\n",
       "      <td>185.276093</td>\n",
       "      <td>49.742298</td>\n",
       "      <td>97.681374</td>\n",
       "    </tr>\n",
       "  </tbody>\n",
       "</table>\n",
       "</div>"
      ],
      "text/plain": [
       "    Year  High Oil Price  Low Oil Price  AEO2023 Reference\n",
       "0   2025      167.871078      46.165466          85.233162\n",
       "1   2026      166.263016      45.745247          85.255096\n",
       "2   2027      167.971329      46.518333          85.532898\n",
       "3   2028      166.407440      47.305279          86.264732\n",
       "4   2029      166.329147      47.445293          86.738144\n",
       "5   2030      167.323944      47.981407          87.188271\n",
       "6   2031      169.405746      48.612011          87.748749\n",
       "7   2032      168.357391      49.241779          88.512123\n",
       "8   2033      170.008057      48.129913          88.937447\n",
       "9   2034      172.798264      47.247337          89.608727\n",
       "10  2035      173.151184      48.183853          90.032150\n",
       "11  2036      172.493591      48.978317          90.825806\n",
       "12  2037      175.043121      48.965652          91.434029\n",
       "13  2038      173.234741      48.364807          91.807198\n",
       "14  2039      174.075836      48.603676          92.341896\n",
       "15  2040      174.940659      47.854874          92.759918\n",
       "16  2041      176.923203      47.173283          93.263626\n",
       "17  2042      179.773056      47.314938          93.719948\n",
       "18  2043      180.724152      47.243107          94.111893\n",
       "19  2044      183.160141      47.941982          94.517479\n",
       "20  2045      181.649643      47.854973          94.856956\n",
       "21  2046      182.023392      48.792587          95.591454\n",
       "22  2047      183.127335      48.370846          96.024887\n",
       "23  2048      184.838379      49.030907          96.717949\n",
       "24  2049      184.530869      48.852909          97.444786\n",
       "25  2050      185.276093      49.742298          97.681374"
      ]
     },
     "execution_count": 58,
     "metadata": {},
     "output_type": "execute_result"
    }
   ],
   "source": [
    "price_projections = pd.read_excel(\"Analysis_Data.xlsx\", header=2, sheet_name=\"Price Projections\")\n",
    "price_projections"
   ]
  },
  {
   "cell_type": "code",
   "execution_count": 59,
   "metadata": {},
   "outputs": [
    {
     "data": {
      "text/plain": [
       "array([ 84.8230374 , 101.4607085 , 108.63215947,  95.52264175,\n",
       "       131.82241688, 132.73978429,  77.418036  ,  94.63888268,\n",
       "       108.66725505,  85.50233276, 120.06254018,  90.64118829,\n",
       "       108.47356008, 120.02135811,  64.44948618])"
      ]
     },
     "execution_count": 59,
     "metadata": {},
     "output_type": "execute_result"
    }
   ],
   "source": [
    "def calculate_oil_price():\n",
    "    return np.array([rng.triangular(left=price_projections.loc[i, \"Low Oil Price\"], mode=price_projections.loc[i, \"AEO2023 Reference\"], right=price_projections.loc[i, \"High Oil Price\"]) for i in range(NUM_YEARS)])\n",
    "\n",
    "calculate_oil_price()"
   ]
  },
  {
   "cell_type": "code",
   "execution_count": 60,
   "metadata": {},
   "outputs": [],
   "source": [
    "def calculate_operating_expenses(annual_production: np.ndarray, annual_revenue: np.ndarray) -> np.ndarray:\n",
    "    operating_costs = rng.normal(2.25, 0.30, size=NUM_YEARS)\n",
    "    annual_operating_expenses = operating_costs * annual_production + 0.046 * annual_revenue\n",
    "    return annual_operating_expenses"
   ]
  },
  {
   "cell_type": "markdown",
   "metadata": {},
   "source": [
    "# Main Simulation"
   ]
  },
  {
   "cell_type": "code",
   "execution_count": 61,
   "metadata": {},
   "outputs": [
    {
     "name": "stderr",
     "output_type": "stream",
     "text": [
      "Calculating NPV:   0%|          | 0/6000000 [00:00<?, ?it/s]"
     ]
    },
    {
     "name": "stderr",
     "output_type": "stream",
     "text": [
      "Calculating NPV: 100%|██████████| 6000000/6000000 [16:45<00:00, 5969.24it/s]\n"
     ]
    }
   ],
   "source": [
    "net_present_values = []\n",
    "for i in tqdm(range(BIG_SIM_SIZE), desc=\"Calculating NPV\"):\n",
    "    initial_cost = norm_data[i] * 1000.0 + calculate_initial_expenses(is_dry=False)\n",
    "    annual_prod = calculate_annual_production(final_combined[0, i], final_combined[1, i])\n",
    "    oil_prices = calculate_oil_price() \n",
    "    net_revenue_interest = rng.normal(0.75, 0.02, size=NUM_YEARS)\n",
    "    annual_revenue = annual_prod * oil_prices * net_revenue_interest\n",
    "    annual_operating_expenses = calculate_operating_expenses(annual_prod, annual_revenue)\n",
    "    final_net_revenue = annual_revenue - annual_operating_expenses\n",
    "\n",
    "    net_present_value = -1 * initial_cost + npf.npv(rate=0.1, values=final_net_revenue)\n",
    "    net_present_values.append(net_present_value)\n",
    "\n",
    "net_present_values = np.array(net_present_values)"
   ]
  },
  {
   "cell_type": "code",
   "execution_count": 62,
   "metadata": {},
   "outputs": [
    {
     "name": "stderr",
     "output_type": "stream",
     "text": [
      "/var/folders/7s/plv7qn294jg_4c9nxj_69_380000gn/T/ipykernel_5669/1555021246.py:5: UserWarning: set_ticklabels() should only be used with a fixed number of ticks, i.e. after set_ticks() or using a FixedLocator.\n",
      "  ax.set_xticklabels([f\"{x / 1e6}M\" for x in ax.get_xticks()])\n"
     ]
    },
    {
     "data": {
      "image/png": "[encoded data removed]",
      "text/plain": [
       "<Figure size 1000x600 with 1 Axes>"
      ]
     },
     "metadata": {},
     "output_type": "display_data"
    }
   ],
   "source": [
    "plt.rcParams.update({\"font.size\": 12})\n",
    "fig, ax = plt.subplots(figsize=(10, 6))\n",
    "ax.hist(net_present_values, bins=100)\n",
    "ax.axvline(np.mean(net_present_values), color=\"r\", linestyle=\"-\", linewidth=2)\n",
    "ax.set_xticklabels([f\"{x / 1e6}M\" for x in ax.get_xticks()])\n",
    "plt.xlabel(\"Net Present Value\")\n",
    "plt.ylabel(\"Frequency\")\n",
    "plt.subplots_adjust(left=0.15, right=0.9, top=0.9, bottom=0.15)\n",
    "plt.show()"
   ]
  },
  {
   "cell_type": "code",
   "execution_count": 63,
   "metadata": {},
   "outputs": [
    {
     "data": {
      "text/plain": [
       "10789866.436"
      ]
     },
     "execution_count": 63,
     "metadata": {},
     "output_type": "execute_result"
    }
   ],
   "source": [
    "# VaR at 5% level\n",
    "np.quantile(net_present_values, 0.05).round(3)"
   ]
  },
  {
   "cell_type": "markdown",
   "metadata": {},
   "source": [
    "# Phase 3"
   ]
  },
  {
   "cell_type": "code",
   "execution_count": 64,
   "metadata": {},
   "outputs": [
    {
     "name": "stderr",
     "output_type": "stream",
     "text": [
      "Producing Wells: 100%|██████████| 200000/200000 [00:25<00:00, 7811.40it/s]\n"
     ]
    },
    {
     "data": {
      "text/html": [
       "<div>\n",
       "<style scoped>\n",
       "    .dataframe tbody tr th:only-of-type {\n",
       "        vertical-align: middle;\n",
       "    }\n",
       "\n",
       "    .dataframe tbody tr th {\n",
       "        vertical-align: top;\n",
       "    }\n",
       "\n",
       "    .dataframe thead th {\n",
       "        text-align: right;\n",
       "    }\n",
       "</style>\n",
       "<table border=\"1\" class=\"dataframe\">\n",
       "  <thead>\n",
       "    <tr style=\"text-align: right;\">\n",
       "      <th></th>\n",
       "      <th>wet</th>\n",
       "      <th>dry</th>\n",
       "      <th>prop</th>\n",
       "    </tr>\n",
       "  </thead>\n",
       "  <tbody>\n",
       "    <tr>\n",
       "      <th>0</th>\n",
       "      <td>9</td>\n",
       "      <td>4</td>\n",
       "      <td>0.692308</td>\n",
       "    </tr>\n",
       "    <tr>\n",
       "      <th>1</th>\n",
       "      <td>22</td>\n",
       "      <td>3</td>\n",
       "      <td>0.880000</td>\n",
       "    </tr>\n",
       "    <tr>\n",
       "      <th>2</th>\n",
       "      <td>9</td>\n",
       "      <td>3</td>\n",
       "      <td>0.750000</td>\n",
       "    </tr>\n",
       "    <tr>\n",
       "      <th>3</th>\n",
       "      <td>6</td>\n",
       "      <td>4</td>\n",
       "      <td>0.600000</td>\n",
       "    </tr>\n",
       "    <tr>\n",
       "      <th>4</th>\n",
       "      <td>18</td>\n",
       "      <td>4</td>\n",
       "      <td>0.818182</td>\n",
       "    </tr>\n",
       "  </tbody>\n",
       "</table>\n",
       "</div>"
      ],
      "text/plain": [
       "   wet  dry      prop\n",
       "0    9    4  0.692308\n",
       "1   22    3  0.880000\n",
       "2    9    3  0.750000\n",
       "3    6    4  0.600000\n",
       "4   18    4  0.818182"
      ]
     },
     "execution_count": 64,
     "metadata": {},
     "output_type": "execute_result"
    }
   ],
   "source": [
    "def get_truncated_normal(mean=0, sd=1, low=0, upp=10):\n",
    "    return truncnorm((low - mean) / sd, (upp - mean) / sd, loc=mean, scale=sd)\n",
    "\n",
    "\n",
    "hydrocarbon = get_truncated_normal(mean=0.99, sd=0.05, low=0.0, upp=1.0)\n",
    "reservoir = get_truncated_normal(mean=0.80, sd=0.10, low=0.0, upp=1.0)\n",
    "\n",
    "wells = []\n",
    "hydro_probs = []\n",
    "reservoir_probs = []\n",
    "\n",
    "for _ in tqdm(range(SIM_SIZE), desc=\"Producing Wells\"):\n",
    "    n_wells = int(rng.uniform(10, 30))\n",
    "    hydro_p = hydrocarbon.rvs(n_wells, random_state=rng)\n",
    "    reservoir_p = reservoir.rvs(n_wells, random_state=rng)\n",
    "    hydro_probs.extend(hydro_p)\n",
    "    reservoir_probs.extend(reservoir_p)\n",
    "    producing_prob = hydro_p * reservoir_p\n",
    "    producing_wells_arr = [rng.binomial(n=1, p=x) for x in producing_prob]\n",
    "    dry_wells = n_wells - sum(producing_wells_arr)\n",
    "    wet_wells = sum(producing_wells_arr)\n",
    "    wells.append({\"wet\": wet_wells, \"dry\": dry_wells})\n",
    "\n",
    "wells = pd.DataFrame(wells)\n",
    "wells[\"prop\"] = wells[\"wet\"] / wells.sum(axis=1)\n",
    "wells.head()"
   ]
  },
  {
   "cell_type": "code",
   "execution_count": 65,
   "metadata": {},
   "outputs": [
    {
     "data": {
      "image/png": "[encoded data removed]",
      "text/plain": [
       "<Figure size 640x480 with 1 Axes>"
      ]
     },
     "metadata": {},
     "output_type": "display_data"
    }
   ],
   "source": [
    "plt.rcParams.update({\"font.size\": 12})\n",
    "plt.hist(hydro_probs, bins=100)\n",
    "plt.xlabel(\"Probability\")\n",
    "plt.ylabel(\"Frequency\")\n",
    "plt.subplots_adjust(left=0.15, right=0.9, top=0.9, bottom=0.15)\n",
    "plt.tight_layout()\n",
    "plt.savefig(\"hydrocarbon.png\", dpi=600)\n",
    "plt.show()"
   ]
  },
  {
   "cell_type": "code",
   "execution_count": 66,
   "metadata": {},
   "outputs": [
    {
     "data": {
      "image/png": "[encoded data removed]",
      "text/plain": [
       "<Figure size 640x480 with 1 Axes>"
      ]
     },
     "metadata": {},
     "output_type": "display_data"
    }
   ],
   "source": [
    "plt.rcParams.update({\"font.size\": 12})\n",
    "plt.hist(reservoir_probs, bins=100)\n",
    "plt.xlabel(\"Probability\")\n",
    "plt.ylabel(\"Frequency\")\n",
    "plt.tight_layout()\n",
    "plt.savefig(\"reservoir.png\", dpi=600)\n",
    "plt.show()"
   ]
  },
  {
   "cell_type": "code",
   "execution_count": 67,
   "metadata": {},
   "outputs": [
    {
     "data": {
      "image/png": "[encoded data removed]",
      "text/plain": [
       "<Figure size 640x480 with 1 Axes>"
      ]
     },
     "metadata": {},
     "output_type": "display_data"
    }
   ],
   "source": [
    "plt.rcParams.update({\"font.size\": 12})\n",
    "plt.hist(wells[\"prop\"])\n",
    "plt.xlabel(\"Proportion\")\n",
    "plt.ylabel(\"Frequency\")\n",
    "plt.tight_layout()\n",
    "plt.savefig(\"proportions.png\", dpi=600)\n",
    "plt.show()"
   ]
  },
  {
   "cell_type": "code",
   "execution_count": 68,
   "metadata": {},
   "outputs": [
    {
     "data": {
      "text/plain": [
       "0.586"
      ]
     },
     "execution_count": 68,
     "metadata": {},
     "output_type": "execute_result"
    }
   ],
   "source": [
    "# VaR at 5% level for wet well proportion\n",
    "wet_value_ar = np.quantile(wells[\"prop\"], 0.05)\n",
    "wet_value_ar.round(3)"
   ]
  },
  {
   "cell_type": "code",
   "execution_count": 69,
   "metadata": {},
   "outputs": [
    {
     "data": {
      "text/plain": [
       "0.53"
      ]
     },
     "execution_count": 69,
     "metadata": {},
     "output_type": "execute_result"
    }
   ],
   "source": [
    "# Conditional VaR at 5% level for wet well proportion\n",
    "wet_cvar = np.mean(wells[\"prop\"][wells[\"prop\"] < wet_value_ar])\n",
    "wet_cvar.round(3)"
   ]
  },
  {
   "cell_type": "code",
   "execution_count": 70,
   "metadata": {},
   "outputs": [
    {
     "name": "stderr",
     "output_type": "stream",
     "text": [
      "Calculating Overall NPV: 100%|██████████| 200000/200000 [00:04<00:00, 47509.32it/s]\n"
     ]
    }
   ],
   "source": [
    "final_npv = []\n",
    "\n",
    "for i in tqdm(range(SIM_SIZE), desc=\"Calculating Overall NPV\"):\n",
    "    n_wet = wells.loc[i, \"wet\"] \n",
    "    n_dry = wells.loc[i, \"dry\"]\n",
    "    dry_costs = rng.choice(dry_well_costs, n_dry, replace=True).sum()\n",
    "    wet_npv = rng.choice(net_present_values, n_wet, replace=True).sum()\n",
    "    npv = wet_npv - dry_costs \n",
    "    final_npv.append(npv)\n",
    "\n",
    "final_npv = np.array(final_npv)"
   ]
  },
  {
   "cell_type": "code",
   "execution_count": 71,
   "metadata": {},
   "outputs": [
    {
     "name": "stderr",
     "output_type": "stream",
     "text": [
      "/var/folders/7s/plv7qn294jg_4c9nxj_69_380000gn/T/ipykernel_5669/246092161.py:5: UserWarning: set_ticklabels() should only be used with a fixed number of ticks, i.e. after set_ticks() or using a FixedLocator.\n",
      "  ax.set_xticklabels([f\"{x / 1e6}M\" for x in ax.get_xticks()])\n"
     ]
    },
    {
     "data": {
      "image/png": "[encoded data removed]",
      "text/plain": [
       "<Figure size 1000x600 with 1 Axes>"
      ]
     },
     "metadata": {},
     "output_type": "display_data"
    }
   ],
   "source": [
    "plt.rcParams.update({\"font.size\": 12})\n",
    "fig, ax = plt.subplots(figsize=(10, 6))\n",
    "ax.hist(final_npv, bins=100)\n",
    "ax.axvline(np.mean(final_npv), color=\"r\", linestyle=\"-\", linewidth=2)\n",
    "ax.set_xticklabels([f\"{x / 1e6}M\" for x in ax.get_xticks()])\n",
    "plt.xlabel(\"Final Net Present Value\")\n",
    "plt.ylabel(\"Frequency\")\n",
    "plt.subplots_adjust(left=0.15, right=0.9, top=0.9, bottom=0.15)\n",
    "plt.savefig(\"final_npv.png\", dpi=600)\n",
    "plt.show()"
   ]
  },
  {
   "cell_type": "code",
   "execution_count": 84,
   "metadata": {},
   "outputs": [
    {
     "data": {
      "text/plain": [
       "'319_695_856.779'"
      ]
     },
     "execution_count": 84,
     "metadata": {},
     "output_type": "execute_result"
    }
   ],
   "source": [
    "# Expected return for final NPV\n",
    "f\"{np.mean(final_npv):_.3f}\""
   ]
  },
  {
   "cell_type": "code",
   "execution_count": 85,
   "metadata": {},
   "outputs": [
    {
     "data": {
      "text/plain": [
       "'155_426_218.742'"
      ]
     },
     "execution_count": 85,
     "metadata": {},
     "output_type": "execute_result"
    }
   ],
   "source": [
    "# VaR calculation at the 5% level\n",
    "final_value_ar = np.quantile(final_npv, 0.05)\n",
    "f\"{final_value_ar:_.3f}\""
   ]
  },
  {
   "cell_type": "code",
   "execution_count": 86,
   "metadata": {},
   "outputs": [
    {
     "data": {
      "text/plain": [
       "'131_238_894.180'"
      ]
     },
     "execution_count": 86,
     "metadata": {},
     "output_type": "execute_result"
    }
   ],
   "source": [
    "# CVaR calculation at the 5% level\n",
    "final_cvar = final_npv[final_npv < final_value_ar].mean()\n",
    "f\"{final_cvar:_.3f}\""
   ]
  },
  {
   "cell_type": "markdown",
   "metadata": {},
   "source": [
    "# Overall Net Present Value (Potentially Deprecated)"
   ]
  },
  {
   "cell_type": "code",
   "execution_count": 87,
   "metadata": {},
   "outputs": [],
   "source": [
    "def calculate_initial_expenses_vectorized(wells: list[int]) -> np.ndarray:\n",
    "    acres = rng.normal(600, 50, size=len(wells))\n",
    "    acres_cost = acres * 960\n",
    "    seismic_sections = rng.normal(3, 0.35, size=len(wells))\n",
    "    seismic_sections_cost = seismic_sections * 43_000\n",
    "\n",
    "    completion_cost = np.where(\n",
    "        wells == 1, rng.normal(390_000, 50_000, size=len(wells)), np.zeros(len(wells))\n",
    "    )\n",
    "\n",
    "    prof_overhead = rng.triangular(\n",
    "        left=172_000, mode=215_000, right=279_500, size=len(wells)\n",
    "    )\n",
    "\n",
    "    # Professional overhead extends by 15 years if the well is producing\n",
    "    prof_overhead = np.where(wells == 1, prof_overhead * NUM_YEARS, prof_overhead)\n",
    "\n",
    "    return acres_cost + seismic_sections_cost + prof_overhead + completion_cost"
   ]
  },
  {
   "cell_type": "code",
   "execution_count": 88,
   "metadata": {},
   "outputs": [
    {
     "data": {
      "text/plain": [
       "array([[116197.06940527,  93866.53923373,  71897.72077771,\n",
       "         55070.55331142,  42181.66875418,  32309.33905504,\n",
       "         24747.56027926,  18955.56386134,  14519.14440238,\n",
       "         11121.03843069,   8518.23580985,   6524.60125594,\n",
       "          4997.5631691 ,   3827.91785267,   2932.01998474],\n",
       "       [203158.43128045, 162187.20362909, 122767.86372284,\n",
       "         92929.33120382,  70343.00619164,  53246.25127479,\n",
       "         40304.83523968,  30508.80963083,  23093.69234622,\n",
       "         17480.8074335 ,  13232.1252031 ,  10016.07837948,\n",
       "          7581.68658202,   5738.96980935,   4344.12239498],\n",
       "       [145457.40619633, 103815.60027505,  84199.82943993,\n",
       "         68290.42320162,  55387.07063989,  44921.78332254,\n",
       "         36433.89320944,  29549.77465757,  23966.39791672,\n",
       "         19437.99016266,  15765.21690396,  12786.40754261,\n",
       "         10370.43884912,   8410.96309225,   6821.72675317]])"
      ]
     },
     "execution_count": 88,
     "metadata": {},
     "output_type": "execute_result"
    }
   ],
   "source": [
    "# TODO: Potentially use np.where everywhere to get the correct positioned 1's and 0's\n",
    "def calculate_annual_production_vectorized(wells: list[int]) -> np.ndarray:\n",
    "    n_wet = np.sum(wells)\n",
    "    init_production = rng.lognormal(6, 0.28, size=n_wet)\n",
    "    decline_rate = rng.uniform(0.15, 0.32, size=n_wet)\n",
    "    combined = np.array([standardize(init_production), standardize(decline_rate)])\n",
    "    combined_u = U @ combined\n",
    "    final_combined = np.array(\n",
    "        [\n",
    "            destandardize(combined_u[0], init_production),\n",
    "            destandardize(combined_u[1], decline_rate),\n",
    "        ]\n",
    "    )\n",
    "\n",
    "    rate_year_end = final_combined[0].reshape(n_wet, 1) * np.cumprod(\n",
    "        1 - np.repeat(final_combined[1], NUM_YEARS).reshape(n_wet, NUM_YEARS),\n",
    "        axis=1,\n",
    "    )\n",
    "    rate_year_begin = np.concatenate(\n",
    "        (init_production.reshape(n_wet, 1), rate_year_end[:, :-1]), axis=1\n",
    "    )\n",
    "    oil_volume_year = 365 * (rate_year_begin + rate_year_end) / 2\n",
    "    return oil_volume_year\n",
    "\n",
    "\n",
    "calculate_annual_production_vectorized(3)"
   ]
  },
  {
   "cell_type": "code",
   "execution_count": 89,
   "metadata": {},
   "outputs": [],
   "source": [
    "def calculate_operating_expenses_vectorized(annual_production: np.ndarray, annual_revenue: np.ndarray) -> np.ndarray:\n",
    "    operating_costs = rng.normal(2.25, 0.30, size=(annual_production.shape[0], NUM_YEARS))\n",
    "    annual_operating_expenses = operating_costs * annual_production + 0.046 * annual_revenue\n",
    "    return annual_operating_expenses"
   ]
  }
 ],
 "metadata": {
  "kernelspec": {
   "display_name": ".venv",
   "language": "python",
   "name": "python3"
  },
  "language_info": {
   "codemirror_mode": {
    "name": "ipython",
    "version": 3
   },
   "file_extension": ".py",
   "mimetype": "text/x-python",
   "name": "python",
   "nbconvert_exporter": "python",
   "pygments_lexer": "ipython3",
   "version": "3.12.2"
  }
 },
 "nbformat": 4,
 "nbformat_minor": 2
}
